{
  "nbformat": 4,
  "nbformat_minor": 0,
  "metadata": {
    "colab": {
      "provenance": [],
      "authorship_tag": "ABX9TyOAX4QVBmkUHu6S603TwSjp",
      "include_colab_link": true
    },
    "kernelspec": {
      "name": "python3",
      "display_name": "Python 3"
    },
    "language_info": {
      "name": "python"
    }
  },
  "cells": [
    {
      "cell_type": "markdown",
      "metadata": {
        "id": "view-in-github",
        "colab_type": "text"
      },
      "source": [
        "<a href=\"https://colab.research.google.com/github/khan5125/Capstone-Projects/blob/main/Uber_DataAnalysis_Project.ipynb\" target=\"_parent\"><img src=\"https://colab.research.google.com/assets/colab-badge.svg\" alt=\"Open In Colab\"/></a>"
      ]
    },
    {
      "cell_type": "code",
      "execution_count": null,
      "metadata": {
        "id": "BUZGYgsYixfi",
        "outputId": "fc0a9f8a-092f-4105-e3d5-a7cadab43bde",
        "colab": {
          "base_uri": "https://localhost:8080/"
        }
      },
      "outputs": [
        {
          "output_type": "stream",
          "name": "stdout",
          "text": [
            "Here's a thoughtful response to your prompt: Discuss the importance of effective communication.. To make it more engaging, let's add some personal anecdotes and examples. In my experience, using this method has led to remarkable results. Moreover, it's essential to consider the nuances involved. By blending different styles and tones, we can create a more relatable narrative.\n"
          ]
        }
      ],
      "source": [
        "import random\n",
        "\n",
        "def generate_human_like_content(prompt):\n",
        "    # Simulate generating content based on a prompt\n",
        "    content = f\"Here's a thoughtful response to your prompt: {prompt}. \"\n",
        "    content += \"To make it more engaging, let's add some personal anecdotes and examples. \"\n",
        "\n",
        "    # Adding personal touch\n",
        "    anecdotes = [\n",
        "        \"I remember the first time I tried this approach; it completely changed my perspective.\",\n",
        "        \"In my experience, using this method has led to remarkable results.\",\n",
        "        \"A friend of mine once shared how this technique helped them overcome challenges.\"\n",
        "    ]\n",
        "\n",
        "    content += random.choice(anecdotes) + \" \"\n",
        "\n",
        "    # Varying sentence structure\n",
        "    content += \"Moreover, it's essential to consider the nuances involved. \"\n",
        "    content += \"By blending different styles and tones, we can create a more relatable narrative.\"\n",
        "\n",
        "    return content\n",
        "\n",
        "# Example usage\n",
        "prompt = \"Discuss the importance of effective communication.\"\n",
        "generated_content = generate_human_like_content(prompt)\n",
        "print(generated_content)"
      ]
    }
  ]
}