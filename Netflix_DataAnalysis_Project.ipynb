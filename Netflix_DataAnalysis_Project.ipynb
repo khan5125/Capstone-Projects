{
  "nbformat": 4,
  "nbformat_minor": 0,
  "metadata": {
    "colab": {
      "provenance": [],
      "authorship_tag": "ABX9TyPBDCWHE3uIdEeew9XRoCft",
      "include_colab_link": true
    },
    "kernelspec": {
      "name": "python3",
      "display_name": "Python 3"
    },
    "language_info": {
      "name": "python"
    }
  },
  "cells": [
    {
      "cell_type": "markdown",
      "metadata": {
        "id": "view-in-github",
        "colab_type": "text"
      },
      "source": [
        "<a href=\"https://colab.research.google.com/github/khan5125/PythonPractice/blob/main/Chapter1.ipynb\" target=\"_parent\"><img src=\"https://colab.research.google.com/assets/colab-badge.svg\" alt=\"Open In Colab\"/></a>"
      ]
    },
    {
      "cell_type": "markdown",
      "source": [
        "***Chapter 1: *** Basic sentance of the python"
      ],
      "metadata": {
        "id": "b3_9hWEwOWs7"
      }
    },
    {
      "cell_type": "code",
      "execution_count": 2,
      "metadata": {
        "id": "BaDQvBSz3dJV",
        "colab": {
          "base_uri": "https://localhost:8080/"
        },
        "outputId": "f658c644-df42-4207-aaa1-b99adae9c579"
      },
      "outputs": [
        {
          "output_type": "stream",
          "name": "stdout",
          "text": [
            "Hello! I am going to work on Python for data science\n"
          ]
        }
      ],
      "source": [
        "print (\"Hello! I am going to work on Python for data science\")\n"
      ]
    },
    {
      "cell_type": "code",
      "source": [
        "# Variables in Pyhton\n",
        "\n",
        "# Integers\n",
        "my_age = 30\n",
        "print(my_age)\n",
        "\n",
        "# Floats\n",
        "my_height = 1.75\n",
        "print(my_height)\n",
        "\n",
        "# Strings\n",
        "my_name = \"Alice\"\n",
        "print(my_name)\n",
        "\n",
        "# Booleans\n",
        "is_student = False\n",
        "print(is_student)\n",
        "\n",
        "# Multiple Assignments\n",
        "x, y, z = 10, 20, 30\n",
        "print(x, y, z)\n",
        "\n",
        "# Variable Naming Conventions\n",
        "# - Use lowercase letters and underscores\n",
        "# - Use descriptive names\n",
        "my_favorite_color = \"blue\""
      ],
      "metadata": {
        "colab": {
          "base_uri": "https://localhost:8080/"
        },
        "id": "X5j02e6yPW-E",
        "outputId": "5126ac87-a079-4e03-b5ec-3c5591e8c101"
      },
      "execution_count": 4,
      "outputs": [
        {
          "output_type": "stream",
          "name": "stdout",
          "text": [
            "30\n",
            "1.75\n",
            "Alice\n",
            "False\n",
            "10 20 30\n"
          ]
        }
      ]
    }
  ]
}
