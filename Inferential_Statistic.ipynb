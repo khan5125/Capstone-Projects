{
  "nbformat": 4,
  "nbformat_minor": 0,
  "metadata": {
    "colab": {
      "provenance": [],
      "collapsed_sections": [
        "U_4gLzwY5T_T"
      ],
      "authorship_tag": "ABX9TyOnRPWnQNvjMSTd0om0jnu6",
      "include_colab_link": true
    },
    "kernelspec": {
      "name": "python3",
      "display_name": "Python 3"
    },
    "language_info": {
      "name": "python"
    }
  },
  "cells": [
    {
      "cell_type": "markdown",
      "metadata": {
        "id": "view-in-github",
        "colab_type": "text"
      },
      "source": [
        "<a href=\"https://colab.research.google.com/github/khan5125/Capstone-Projects/blob/main/Inferential_Statistic.ipynb\" target=\"_parent\"><img src=\"https://colab.research.google.com/assets/colab-badge.svg\" alt=\"Open In Colab\"/></a>"
      ]
    },
    {
      "cell_type": "markdown",
      "source": [
        "# Covariation and Correlation:\n",
        "## Covariation (Covariance)\n",
        "\n",
        "How two variables vary together — whether increases in one variable are associated with increases or decreases in another.\n",
        "\n",
        "➤ Interpretation:\n",
        "\n",
        "Positive covariance: variables increase together.\n",
        "\n",
        "Negative covariance: one increases while the other decreases.\n",
        "\n",
        "Zero covariance: no linear relationship.\n",
        "\n",
        "\n",
        "## Correlation\n",
        "\n",
        "Correlation standardizes covariance and measures the strength and direction of a linear relationship.\n",
        "\n",
        "➤ Values:\n",
        "\n",
        "r = 1:  Perfect positive correlation\n",
        "\n",
        "r = -1: Perfect negative correlation\n",
        "\n",
        "r = 0:  No linear relationship\n",
        "\n"
      ],
      "metadata": {
        "id": "U_4gLzwY5T_T"
      }
    },
    {
      "cell_type": "code",
      "execution_count": 119,
      "metadata": {
        "id": "Nqpy3suwwGJ7"
      },
      "outputs": [],
      "source": [
        "import pandas as pd\n",
        "import numpy as np\n",
        "import matplotlib.pyplot as plt\n",
        "import seaborn as sns\n",
        "import statistics as stat"
      ]
    },
    {
      "cell_type": "code",
      "source": [
        "df = sns.load_dataset('tips')"
      ],
      "metadata": {
        "id": "jI1k46SY7sQV"
      },
      "execution_count": 120,
      "outputs": []
    },
    {
      "cell_type": "code",
      "source": [
        "df.head(3)"
      ],
      "metadata": {
        "colab": {
          "base_uri": "https://localhost:8080/",
          "height": 0
        },
        "id": "tuYAxr7K7x0Z",
        "outputId": "b9bc3487-25e3-4f2c-d411-1557e8438a13"
      },
      "execution_count": 121,
      "outputs": [
        {
          "output_type": "execute_result",
          "data": {
            "text/plain": [
              "   total_bill   tip     sex smoker  day    time  size\n",
              "0       16.99  1.01  Female     No  Sun  Dinner     2\n",
              "1       10.34  1.66    Male     No  Sun  Dinner     3\n",
              "2       21.01  3.50    Male     No  Sun  Dinner     3"
            ],
            "text/html": [
              "\n",
              "  <div id=\"df-20af6cec-206f-467f-b469-834b3c2ddfdb\" class=\"colab-df-container\">\n",
              "    <div>\n",
              "<style scoped>\n",
              "    .dataframe tbody tr th:only-of-type {\n",
              "        vertical-align: middle;\n",
              "    }\n",
              "\n",
              "    .dataframe tbody tr th {\n",
              "        vertical-align: top;\n",
              "    }\n",
              "\n",
              "    .dataframe thead th {\n",
              "        text-align: right;\n",
              "    }\n",
              "</style>\n",
              "<table border=\"1\" class=\"dataframe\">\n",
              "  <thead>\n",
              "    <tr style=\"text-align: right;\">\n",
              "      <th></th>\n",
              "      <th>total_bill</th>\n",
              "      <th>tip</th>\n",
              "      <th>sex</th>\n",
              "      <th>smoker</th>\n",
              "      <th>day</th>\n",
              "      <th>time</th>\n",
              "      <th>size</th>\n",
              "    </tr>\n",
              "  </thead>\n",
              "  <tbody>\n",
              "    <tr>\n",
              "      <th>0</th>\n",
              "      <td>16.99</td>\n",
              "      <td>1.01</td>\n",
              "      <td>Female</td>\n",
              "      <td>No</td>\n",
              "      <td>Sun</td>\n",
              "      <td>Dinner</td>\n",
              "      <td>2</td>\n",
              "    </tr>\n",
              "    <tr>\n",
              "      <th>1</th>\n",
              "      <td>10.34</td>\n",
              "      <td>1.66</td>\n",
              "      <td>Male</td>\n",
              "      <td>No</td>\n",
              "      <td>Sun</td>\n",
              "      <td>Dinner</td>\n",
              "      <td>3</td>\n",
              "    </tr>\n",
              "    <tr>\n",
              "      <th>2</th>\n",
              "      <td>21.01</td>\n",
              "      <td>3.50</td>\n",
              "      <td>Male</td>\n",
              "      <td>No</td>\n",
              "      <td>Sun</td>\n",
              "      <td>Dinner</td>\n",
              "      <td>3</td>\n",
              "    </tr>\n",
              "  </tbody>\n",
              "</table>\n",
              "</div>\n",
              "    <div class=\"colab-df-buttons\">\n",
              "\n",
              "  <div class=\"colab-df-container\">\n",
              "    <button class=\"colab-df-convert\" onclick=\"convertToInteractive('df-20af6cec-206f-467f-b469-834b3c2ddfdb')\"\n",
              "            title=\"Convert this dataframe to an interactive table.\"\n",
              "            style=\"display:none;\">\n",
              "\n",
              "  <svg xmlns=\"http://www.w3.org/2000/svg\" height=\"24px\" viewBox=\"0 -960 960 960\">\n",
              "    <path d=\"M120-120v-720h720v720H120Zm60-500h600v-160H180v160Zm220 220h160v-160H400v160Zm0 220h160v-160H400v160ZM180-400h160v-160H180v160Zm440 0h160v-160H620v160ZM180-180h160v-160H180v160Zm440 0h160v-160H620v160Z\"/>\n",
              "  </svg>\n",
              "    </button>\n",
              "\n",
              "  <style>\n",
              "    .colab-df-container {\n",
              "      display:flex;\n",
              "      gap: 12px;\n",
              "    }\n",
              "\n",
              "    .colab-df-convert {\n",
              "      background-color: #E8F0FE;\n",
              "      border: none;\n",
              "      border-radius: 50%;\n",
              "      cursor: pointer;\n",
              "      display: none;\n",
              "      fill: #1967D2;\n",
              "      height: 32px;\n",
              "      padding: 0 0 0 0;\n",
              "      width: 32px;\n",
              "    }\n",
              "\n",
              "    .colab-df-convert:hover {\n",
              "      background-color: #E2EBFA;\n",
              "      box-shadow: 0px 1px 2px rgba(60, 64, 67, 0.3), 0px 1px 3px 1px rgba(60, 64, 67, 0.15);\n",
              "      fill: #174EA6;\n",
              "    }\n",
              "\n",
              "    .colab-df-buttons div {\n",
              "      margin-bottom: 4px;\n",
              "    }\n",
              "\n",
              "    [theme=dark] .colab-df-convert {\n",
              "      background-color: #3B4455;\n",
              "      fill: #D2E3FC;\n",
              "    }\n",
              "\n",
              "    [theme=dark] .colab-df-convert:hover {\n",
              "      background-color: #434B5C;\n",
              "      box-shadow: 0px 1px 3px 1px rgba(0, 0, 0, 0.15);\n",
              "      filter: drop-shadow(0px 1px 2px rgba(0, 0, 0, 0.3));\n",
              "      fill: #FFFFFF;\n",
              "    }\n",
              "  </style>\n",
              "\n",
              "    <script>\n",
              "      const buttonEl =\n",
              "        document.querySelector('#df-20af6cec-206f-467f-b469-834b3c2ddfdb button.colab-df-convert');\n",
              "      buttonEl.style.display =\n",
              "        google.colab.kernel.accessAllowed ? 'block' : 'none';\n",
              "\n",
              "      async function convertToInteractive(key) {\n",
              "        const element = document.querySelector('#df-20af6cec-206f-467f-b469-834b3c2ddfdb');\n",
              "        const dataTable =\n",
              "          await google.colab.kernel.invokeFunction('convertToInteractive',\n",
              "                                                    [key], {});\n",
              "        if (!dataTable) return;\n",
              "\n",
              "        const docLinkHtml = 'Like what you see? Visit the ' +\n",
              "          '<a target=\"_blank\" href=https://colab.research.google.com/notebooks/data_table.ipynb>data table notebook</a>'\n",
              "          + ' to learn more about interactive tables.';\n",
              "        element.innerHTML = '';\n",
              "        dataTable['output_type'] = 'display_data';\n",
              "        await google.colab.output.renderOutput(dataTable, element);\n",
              "        const docLink = document.createElement('div');\n",
              "        docLink.innerHTML = docLinkHtml;\n",
              "        element.appendChild(docLink);\n",
              "      }\n",
              "    </script>\n",
              "  </div>\n",
              "\n",
              "\n",
              "    <div id=\"df-8368b309-6bd8-42f0-928b-2a100843813c\">\n",
              "      <button class=\"colab-df-quickchart\" onclick=\"quickchart('df-8368b309-6bd8-42f0-928b-2a100843813c')\"\n",
              "                title=\"Suggest charts\"\n",
              "                style=\"display:none;\">\n",
              "\n",
              "<svg xmlns=\"http://www.w3.org/2000/svg\" height=\"24px\"viewBox=\"0 0 24 24\"\n",
              "     width=\"24px\">\n",
              "    <g>\n",
              "        <path d=\"M19 3H5c-1.1 0-2 .9-2 2v14c0 1.1.9 2 2 2h14c1.1 0 2-.9 2-2V5c0-1.1-.9-2-2-2zM9 17H7v-7h2v7zm4 0h-2V7h2v10zm4 0h-2v-4h2v4z\"/>\n",
              "    </g>\n",
              "</svg>\n",
              "      </button>\n",
              "\n",
              "<style>\n",
              "  .colab-df-quickchart {\n",
              "      --bg-color: #E8F0FE;\n",
              "      --fill-color: #1967D2;\n",
              "      --hover-bg-color: #E2EBFA;\n",
              "      --hover-fill-color: #174EA6;\n",
              "      --disabled-fill-color: #AAA;\n",
              "      --disabled-bg-color: #DDD;\n",
              "  }\n",
              "\n",
              "  [theme=dark] .colab-df-quickchart {\n",
              "      --bg-color: #3B4455;\n",
              "      --fill-color: #D2E3FC;\n",
              "      --hover-bg-color: #434B5C;\n",
              "      --hover-fill-color: #FFFFFF;\n",
              "      --disabled-bg-color: #3B4455;\n",
              "      --disabled-fill-color: #666;\n",
              "  }\n",
              "\n",
              "  .colab-df-quickchart {\n",
              "    background-color: var(--bg-color);\n",
              "    border: none;\n",
              "    border-radius: 50%;\n",
              "    cursor: pointer;\n",
              "    display: none;\n",
              "    fill: var(--fill-color);\n",
              "    height: 32px;\n",
              "    padding: 0;\n",
              "    width: 32px;\n",
              "  }\n",
              "\n",
              "  .colab-df-quickchart:hover {\n",
              "    background-color: var(--hover-bg-color);\n",
              "    box-shadow: 0 1px 2px rgba(60, 64, 67, 0.3), 0 1px 3px 1px rgba(60, 64, 67, 0.15);\n",
              "    fill: var(--button-hover-fill-color);\n",
              "  }\n",
              "\n",
              "  .colab-df-quickchart-complete:disabled,\n",
              "  .colab-df-quickchart-complete:disabled:hover {\n",
              "    background-color: var(--disabled-bg-color);\n",
              "    fill: var(--disabled-fill-color);\n",
              "    box-shadow: none;\n",
              "  }\n",
              "\n",
              "  .colab-df-spinner {\n",
              "    border: 2px solid var(--fill-color);\n",
              "    border-color: transparent;\n",
              "    border-bottom-color: var(--fill-color);\n",
              "    animation:\n",
              "      spin 1s steps(1) infinite;\n",
              "  }\n",
              "\n",
              "  @keyframes spin {\n",
              "    0% {\n",
              "      border-color: transparent;\n",
              "      border-bottom-color: var(--fill-color);\n",
              "      border-left-color: var(--fill-color);\n",
              "    }\n",
              "    20% {\n",
              "      border-color: transparent;\n",
              "      border-left-color: var(--fill-color);\n",
              "      border-top-color: var(--fill-color);\n",
              "    }\n",
              "    30% {\n",
              "      border-color: transparent;\n",
              "      border-left-color: var(--fill-color);\n",
              "      border-top-color: var(--fill-color);\n",
              "      border-right-color: var(--fill-color);\n",
              "    }\n",
              "    40% {\n",
              "      border-color: transparent;\n",
              "      border-right-color: var(--fill-color);\n",
              "      border-top-color: var(--fill-color);\n",
              "    }\n",
              "    60% {\n",
              "      border-color: transparent;\n",
              "      border-right-color: var(--fill-color);\n",
              "    }\n",
              "    80% {\n",
              "      border-color: transparent;\n",
              "      border-right-color: var(--fill-color);\n",
              "      border-bottom-color: var(--fill-color);\n",
              "    }\n",
              "    90% {\n",
              "      border-color: transparent;\n",
              "      border-bottom-color: var(--fill-color);\n",
              "    }\n",
              "  }\n",
              "</style>\n",
              "\n",
              "      <script>\n",
              "        async function quickchart(key) {\n",
              "          const quickchartButtonEl =\n",
              "            document.querySelector('#' + key + ' button');\n",
              "          quickchartButtonEl.disabled = true;  // To prevent multiple clicks.\n",
              "          quickchartButtonEl.classList.add('colab-df-spinner');\n",
              "          try {\n",
              "            const charts = await google.colab.kernel.invokeFunction(\n",
              "                'suggestCharts', [key], {});\n",
              "          } catch (error) {\n",
              "            console.error('Error during call to suggestCharts:', error);\n",
              "          }\n",
              "          quickchartButtonEl.classList.remove('colab-df-spinner');\n",
              "          quickchartButtonEl.classList.add('colab-df-quickchart-complete');\n",
              "        }\n",
              "        (() => {\n",
              "          let quickchartButtonEl =\n",
              "            document.querySelector('#df-8368b309-6bd8-42f0-928b-2a100843813c button');\n",
              "          quickchartButtonEl.style.display =\n",
              "            google.colab.kernel.accessAllowed ? 'block' : 'none';\n",
              "        })();\n",
              "      </script>\n",
              "    </div>\n",
              "\n",
              "    </div>\n",
              "  </div>\n"
            ],
            "application/vnd.google.colaboratory.intrinsic+json": {
              "type": "dataframe",
              "variable_name": "df",
              "summary": "{\n  \"name\": \"df\",\n  \"rows\": 244,\n  \"fields\": [\n    {\n      \"column\": \"total_bill\",\n      \"properties\": {\n        \"dtype\": \"number\",\n        \"std\": 8.902411954856856,\n        \"min\": 3.07,\n        \"max\": 50.81,\n        \"num_unique_values\": 229,\n        \"samples\": [\n          22.12,\n          20.23,\n          14.78\n        ],\n        \"semantic_type\": \"\",\n        \"description\": \"\"\n      }\n    },\n    {\n      \"column\": \"tip\",\n      \"properties\": {\n        \"dtype\": \"number\",\n        \"std\": 1.3836381890011826,\n        \"min\": 1.0,\n        \"max\": 10.0,\n        \"num_unique_values\": 123,\n        \"samples\": [\n          3.35,\n          1.5,\n          6.73\n        ],\n        \"semantic_type\": \"\",\n        \"description\": \"\"\n      }\n    },\n    {\n      \"column\": \"sex\",\n      \"properties\": {\n        \"dtype\": \"category\",\n        \"num_unique_values\": 2,\n        \"samples\": [\n          \"Male\",\n          \"Female\"\n        ],\n        \"semantic_type\": \"\",\n        \"description\": \"\"\n      }\n    },\n    {\n      \"column\": \"smoker\",\n      \"properties\": {\n        \"dtype\": \"category\",\n        \"num_unique_values\": 2,\n        \"samples\": [\n          \"Yes\",\n          \"No\"\n        ],\n        \"semantic_type\": \"\",\n        \"description\": \"\"\n      }\n    },\n    {\n      \"column\": \"day\",\n      \"properties\": {\n        \"dtype\": \"category\",\n        \"num_unique_values\": 4,\n        \"samples\": [\n          \"Sat\",\n          \"Fri\"\n        ],\n        \"semantic_type\": \"\",\n        \"description\": \"\"\n      }\n    },\n    {\n      \"column\": \"time\",\n      \"properties\": {\n        \"dtype\": \"category\",\n        \"num_unique_values\": 2,\n        \"samples\": [\n          \"Lunch\",\n          \"Dinner\"\n        ],\n        \"semantic_type\": \"\",\n        \"description\": \"\"\n      }\n    },\n    {\n      \"column\": \"size\",\n      \"properties\": {\n        \"dtype\": \"number\",\n        \"std\": 0,\n        \"min\": 1,\n        \"max\": 6,\n        \"num_unique_values\": 6,\n        \"samples\": [\n          2,\n          3\n        ],\n        \"semantic_type\": \"\",\n        \"description\": \"\"\n      }\n    }\n  ]\n}"
            }
          },
          "metadata": {},
          "execution_count": 121
        }
      ]
    },
    {
      "cell_type": "code",
      "source": [
        "df.info()"
      ],
      "metadata": {
        "colab": {
          "base_uri": "https://localhost:8080/"
        },
        "id": "tcJmWSVs772C",
        "outputId": "c7361479-dd71-4f25-89f2-35a79ee18a51"
      },
      "execution_count": 122,
      "outputs": [
        {
          "output_type": "stream",
          "name": "stdout",
          "text": [
            "<class 'pandas.core.frame.DataFrame'>\n",
            "RangeIndex: 244 entries, 0 to 243\n",
            "Data columns (total 7 columns):\n",
            " #   Column      Non-Null Count  Dtype   \n",
            "---  ------      --------------  -----   \n",
            " 0   total_bill  244 non-null    float64 \n",
            " 1   tip         244 non-null    float64 \n",
            " 2   sex         244 non-null    category\n",
            " 3   smoker      244 non-null    category\n",
            " 4   day         244 non-null    category\n",
            " 5   time        244 non-null    category\n",
            " 6   size        244 non-null    int64   \n",
            "dtypes: category(4), float64(2), int64(1)\n",
            "memory usage: 7.4 KB\n"
          ]
        }
      ]
    },
    {
      "cell_type": "code",
      "source": [
        "# df.cov(numeric_only=True)\n",
        "cov = df.cov(numeric_only=True)\n",
        "print(cov)"
      ],
      "metadata": {
        "colab": {
          "base_uri": "https://localhost:8080/"
        },
        "id": "BmxaD2-A9Pg8",
        "outputId": "0d3c2771-ac8f-4485-d231-5707c3f1dbee"
      },
      "execution_count": 123,
      "outputs": [
        {
          "output_type": "stream",
          "name": "stdout",
          "text": [
            "            total_bill       tip      size\n",
            "total_bill   79.252939  8.323502  5.065983\n",
            "tip           8.323502  1.914455  0.643906\n",
            "size          5.065983  0.643906  0.904591\n"
          ]
        }
      ]
    },
    {
      "cell_type": "code",
      "source": [
        "# df.corr(numeric_only=True)\n",
        "corr = df.corr(numeric_only=True)\n",
        "print(corr)"
      ],
      "metadata": {
        "colab": {
          "base_uri": "https://localhost:8080/"
        },
        "id": "wzzt0Yp89Vk-",
        "outputId": "c80b138d-f506-4314-dd16-be109bf80ba5"
      },
      "execution_count": 124,
      "outputs": [
        {
          "output_type": "stream",
          "name": "stdout",
          "text": [
            "            total_bill       tip      size\n",
            "total_bill    1.000000  0.675734  0.598315\n",
            "tip           0.675734  1.000000  0.489299\n",
            "size          0.598315  0.489299  1.000000\n"
          ]
        }
      ]
    },
    {
      "cell_type": "code",
      "source": [
        "# We can also check the relationship between variables one by one\n",
        "corr_two_varaible = df['total_bill'].corr(df['tip'])\n",
        "print(corr_two_varaible)"
      ],
      "metadata": {
        "colab": {
          "base_uri": "https://localhost:8080/"
        },
        "id": "iujf5Bx7LZfQ",
        "outputId": "024e0524-eeaf-49e0-b895-44f4fa8bf674"
      },
      "execution_count": 125,
      "outputs": [
        {
          "output_type": "stream",
          "name": "stdout",
          "text": [
            "0.6757341092113641\n"
          ]
        }
      ]
    },
    {
      "cell_type": "code",
      "source": [
        "plt.figure(figsize=(4, 3))\n",
        "sns.heatmap(corr, annot=True)\n",
        "plt.title('Correlation Heatmap of Tips Dataset')\n",
        "plt.show()"
      ],
      "metadata": {
        "colab": {
          "base_uri": "https://localhost:8080/",
          "height": 0
        },
        "id": "K6mvuCo2--lt",
        "outputId": "060c53db-c7ec-4b5a-f4c1-45c525102e44"
      },
      "execution_count": 126,
      "outputs": [
        {
          "output_type": "display_data",
          "data": {
            "text/plain": [
              "<Figure size 400x300 with 2 Axes>"
            ],
            "image/png": "[encoded data removed]"
          },
          "metadata": {}
        }
      ]
    },
    {
      "cell_type": "code",
      "source": [
        "plt.figure(figsize=(4, 3))\n",
        "sns.heatmap(cov, annot=True)\n",
        "plt.title('Covariance Heatmap of Tips Dataset')\n",
        "plt.show()"
      ],
      "metadata": {
        "colab": {
          "base_uri": "https://localhost:8080/",
          "height": 0
        },
        "id": "edeKpkEN_W3x",
        "outputId": "be1feeb3-594e-479f-88d1-1c1bd82d1467"
      },
      "execution_count": 127,
      "outputs": [
        {
          "output_type": "display_data",
          "data": {
            "text/plain": [
              "<Figure size 400x300 with 2 Axes>"
            ],
            "image/png": "[encoded data removed]"
          },
          "metadata": {}
        }
      ]
    },
    {
      "cell_type": "code",
      "source": [
        "# Best is Correlation:\n",
        "# In simple linear regression | we can use covariance as well."
      ],
      "metadata": {
        "id": "h4sLjKt5_vVP"
      },
      "execution_count": 128,
      "outputs": []
    },
    {
      "cell_type": "markdown",
      "source": [
        "# Central Limit Theoram\n",
        "1. Population means and means of sample means are almost equal in CTL:"
      ],
      "metadata": {
        "id": "GuJUT0vRAbGz"
      }
    },
    {
      "cell_type": "code",
      "source": [
        "# Load tips dataset\n",
        "tips = sns.load_dataset(\"tips\")\n",
        "data = tips['total_bill']\n",
        "\n",
        "sns.histplot(data, bins=30, kde=True, color=\"skyblue\")\n",
        "plt.title(\"Distribution of Total Bill (Data is not Normaly Distributed)\")\n",
        "plt.xlabel(\"Total Bill\")\n",
        "plt.ylabel(\"Frequency\")\n",
        "plt.show()"
      ],
      "metadata": {
        "colab": {
          "base_uri": "https://localhost:8080/",
          "height": 472
        },
        "id": "iA8NG9AJGpO9",
        "outputId": "85f3170d-8300-46d0-c481-4c323c9067d3"
      },
      "execution_count": 129,
      "outputs": [
        {
          "output_type": "display_data",
          "data": {
            "text/plain": [
              "<Figure size 640x480 with 1 Axes>"
            ],
            "image/png": "[encoded data removed]"
          },
          "metadata": {}
        }
      ]
    },
    {
      "cell_type": "code",
      "source": [
        "np.mean(data)"
      ],
      "metadata": {
        "colab": {
          "base_uri": "https://localhost:8080/"
        },
        "id": "oCZmVeL2IEjP",
        "outputId": "e1952539-b81a-4d17-8996-4a432d5612c2"
      },
      "execution_count": 130,
      "outputs": [
        {
          "output_type": "execute_result",
          "data": {
            "text/plain": [
              "np.float64(19.78594262295082)"
            ]
          },
          "metadata": {},
          "execution_count": 130
        }
      ]
    },
    {
      "cell_type": "code",
      "source": [
        "# Central Limit Theorem demonstration\n",
        "sample_means = []\n",
        "\n",
        "# Take 1000 samples, we can coose any number greater than or equal to 30\n",
        "for no_samples in range(1000):\n",
        "    sample = np.random.choice(data, size=40, replace=True)\n",
        "    sample_means.append(np.mean(sample))\n"
      ],
      "metadata": {
        "id": "f88rAIMrG6uI"
      },
      "execution_count": 131,
      "outputs": []
    },
    {
      "cell_type": "code",
      "source": [
        "np.mean(sample_means)"
      ],
      "metadata": {
        "colab": {
          "base_uri": "https://localhost:8080/"
        },
        "id": "VQULiCtpHw6V",
        "outputId": "5e18169a-e496-4e8e-9766-05476f10f790"
      },
      "execution_count": 132,
      "outputs": [
        {
          "output_type": "execute_result",
          "data": {
            "text/plain": [
              "np.float64(19.7246415)"
            ]
          },
          "metadata": {},
          "execution_count": 132
        }
      ]
    },
    {
      "cell_type": "code",
      "source": [
        "# Plot the distribution of sample means\n",
        "plt.figure(figsize=(6,3))\n",
        "sns.histplot(sample_means, bins=30, kde=True, color=\"skyblue\")\n",
        "plt.title(\"Central Limit Theorem: Sampling Distribution of the Mean (Now the data is Normal Distibuted)\")\n",
        "plt.xlabel(\"Sample Mean of Total Bill\")\n",
        "plt.ylabel(\"Frequency\")\n",
        "plt.show()"
      ],
      "metadata": {
        "colab": {
          "base_uri": "https://localhost:8080/",
          "height": 333
        },
        "id": "oab345nbIroI",
        "outputId": "5334faed-f2bf-4ccb-be38-b19e01f7e02f"
      },
      "execution_count": 133,
      "outputs": [
        {
          "output_type": "display_data",
          "data": {
            "text/plain": [
              "<Figure size 600x300 with 1 Axes>"
            ],
            "image/png": "[encoded data removed]"
          },
          "metadata": {}
        }
      ]
    },
    {
      "cell_type": "markdown",
      "source": [
        "# Hypothesis Testing\n",
        "1. T-Test\n",
        "\n",
        "One-sample t-test: A sample mean is significantly different from a population mean.\n",
        "\n",
        "Two-sample t-test: Two independent samples have significantly different means.\n",
        "\n",
        "2. Z-Test"
      ],
      "metadata": {
        "id": "04pA8VDG7Zd0"
      }
    },
    {
      "cell_type": "code",
      "source": [
        "# One-Sample T-Test\n",
        "\n",
        "import numpy as np\n",
        "from scipy import stats\n",
        "\n",
        "# Generate random sample data\n",
        "np.random.seed(42)\n",
        "sample = np.random.normal(52,10,30)  # mean=52, std=10\n",
        "\n",
        "# Hypothesized population mean (Farzi population mean)\n",
        "population_mean = 50\n",
        "\n",
        "# Perform one-sample t-test (Which is based on data and pop_mean)\n",
        "t_stat, p_value = stats.ttest_1samp(sample, population_mean)\n",
        "\n",
        "print(f\"Sample Mean: {np.mean(sample)}\")\n",
        "print(f\"T-statistic: {t_stat}\")\n",
        "print(f\"P-value: {p_value}\")\n",
        "\n",
        "# Interpretation\n",
        "if p_value < 0.05:\n",
        "    print(\"Reject the null hypothesis: Sample mean is significantly different from 50\")\n",
        "else:\n",
        "    print(\"Fail to reject the null hypothesis: No significant difference from 50\")\n"
      ],
      "metadata": {
        "colab": {
          "base_uri": "https://localhost:8080/"
        },
        "id": "Bj17x2Ga7YJW",
        "outputId": "ada98fc8-6505-48ef-fa7c-b7d310eb5896"
      },
      "execution_count": 134,
      "outputs": [
        {
          "output_type": "stream",
          "name": "stdout",
          "text": [
            "Sample Mean: 50.118531041489625\n",
            "T-statistic: 0.07213517949624637\n",
            "P-value: 0.9429895415189937\n",
            "Fail to reject the null hypothesis: No significant difference from 50\n"
          ]
        }
      ]
    },
    {
      "cell_type": "code",
      "source": [
        "# Two-Sample T-Test (Independent)\n",
        "\n",
        "# Generate two independent samples\n",
        "group1 = np.random.normal(loc=55, scale=10, size=40)  # Mean = 55\n",
        "group2 = np.random.normal(loc=50, scale=10, size=40)  # Mean = 50\n",
        "\n",
        "# Perform independent two-sample t-test (assumes equal variances by default)\n",
        "t_stat2, p_value2 = stats.ttest_ind(group1, group2)\n",
        "\n",
        "print(f\"Group1 Mean: {np.mean(group1):.2f}\")\n",
        "print(f\"Group2 Mean: {np.mean(group2):.2f}\")\n",
        "print(f\"T-statistic: {t_stat2:.2f}\")\n",
        "print(f\"P-value: {p_value2:.4f}\")\n",
        "\n",
        "# Interpretation\n",
        "if p_value2 < 0.05:\n",
        "    print(\"Reject the null hypothesis: Means are significantly different.\")\n",
        "else:\n",
        "    print(\"Fail to reject the null hypothesis: No significant difference in means.\")\n",
        "\n",
        "\n"
      ],
      "metadata": {
        "colab": {
          "base_uri": "https://localhost:8080/"
        },
        "id": "RdAkRbZE80pG",
        "outputId": "beaef398-4d89-4c62-9ce7-bf0b13c1bb15"
      },
      "execution_count": 135,
      "outputs": [
        {
          "output_type": "stream",
          "name": "stdout",
          "text": [
            "Group1 Mean: 54.05\n",
            "Group2 Mean: 49.64\n",
            "T-statistic: 2.17\n",
            "P-value: 0.0330\n",
            "Reject the null hypothesis: Means are significantly different.\n"
          ]
        }
      ]
    },
    {
      "cell_type": "code",
      "source": [
        "# Z-Test for random data:\n",
        "\n",
        "import numpy as np\n",
        "from scipy import stats\n",
        "\n",
        "# Step 1: Generate random data\n",
        "np.random.seed(0)\n",
        "sample = np.random.normal(52,10,100)  # mean=52, std=10, n=100\n",
        "\n",
        "# Step 2: Define population mean (hypothesized)\n",
        "population_mean = 50\n",
        "\n",
        "# Step 3: Calculate sample mean and sample size\n",
        "sample_mean = np.mean(sample)\n",
        "sample_size = len(sample)\n",
        "\n",
        "# Step 4: Assume known population standard deviation (Z-test requirement)\n",
        "population_std = 10\n",
        "\n",
        "# Step 5: Compute Standard Error\n",
        "standard_error = population_std / np.sqrt(sample_size)\n",
        "\n",
        "# Step 6: Calculate Z-score\n",
        "z_score = (sample_mean - population_mean) / standard_error\n",
        "\n",
        "# Step 7: Compute p-value (two-tailed test)\n",
        "p_value = 2 * (1 - stats.norm.cdf(abs(z_score)))\n",
        "\n",
        "# Step 8: Output results\n",
        "print(f\"Sample Mean: {sample_mean:.2f}\")\n",
        "print(f\"Z-score: {z_score:.2f}\")\n",
        "print(f\"P-value: {p_value:.4f}\")\n",
        "\n",
        "# Step 9: Interpretation\n",
        "if p_value < 0.05:\n",
        "    print(\"Reject the null hypothesis: Sample mean is significantly different from 50.\")\n",
        "else:\n",
        "    print(\"Fail to reject the null hypothesis: No significant difference from 50.\")\n",
        "\n"
      ],
      "metadata": {
        "colab": {
          "base_uri": "https://localhost:8080/"
        },
        "id": "cQvxY-Yj9YOo",
        "outputId": "ee2e991c-887d-4d50-c0fb-45802399c2e7"
      },
      "execution_count": 136,
      "outputs": [
        {
          "output_type": "stream",
          "name": "stdout",
          "text": [
            "Sample Mean: 52.60\n",
            "Z-score: 2.60\n",
            "P-value: 0.0094\n",
            "Reject the null hypothesis: Sample mean is significantly different from 50.\n"
          ]
        }
      ]
    },
    {
      "cell_type": "code",
      "source": [
        "import seaborn as sns\n",
        "import numpy as np\n",
        "from scipy import stats\n",
        "\n",
        "# Load Titanic dataset\n",
        "titanic = sns.load_dataset('titanic')\n",
        "\n",
        "# Drop rows with missing age\n",
        "# titanic = titanic.dropna(subset=['age'])\n",
        "\n",
        "# Fill missing age values with the mean of the existing age values in the titanic DataFrame\n",
        "titanic['age'] = titanic['age'].fillna(titanic['age'].mean())\n",
        "\n",
        "# Step 1: Full population statistics\n",
        "population_ages = titanic['age']\n",
        "population_mean = np.mean(population_ages)\n",
        "population_std = np.std(population_ages, ddof=0)\n",
        "population_size = len(population_ages)\n",
        "\n",
        "# Step 2: Create a random sample (e.g., 50 passengers)\n",
        "np.random.seed(42)  # reproducibility\n",
        "sample_ages = population_ages.sample(n=50, random_state=42)\n",
        "sample_mean = np.mean(sample_ages)\n",
        "sample_size = len(sample_ages)\n",
        "\n",
        "# Step 3: Standard Error using population std\n",
        "standard_error = population_std / np.sqrt(sample_size)\n",
        "\n",
        "# Step 4: Z-score\n",
        "z_score = (sample_mean - population_mean) / standard_error\n",
        "\n",
        "# Step 5: P-value (two-tailed)\n",
        "p_value = 2 * (1 - stats.norm.cdf(abs(z_score)))\n",
        "\n",
        "# Step 6: Print Results\n",
        "print(f\"Population Mean Age: {population_mean:.2f}\")\n",
        "print(f\"Sample Mean Age: {sample_mean:.2f}\")\n",
        "print(f\"Z-Score: {z_score:.2f}\")\n",
        "print(f\"P-Value: {p_value:.4f}\")\n",
        "\n",
        "# Step 7: Conclusion\n",
        "if p_value < 0.05:\n",
        "    print(\"Reject the null hypothesis: Sample mean age is significantly different from population mean age.\")\n",
        "else:\n",
        "    print(\"Fail to reject the null hypothesis: No significant difference between sample and population mean age.\")"
      ],
      "metadata": {
        "colab": {
          "base_uri": "https://localhost:8080/"
        },
        "id": "wWdPx0NsByAT",
        "outputId": "8b41ed24-46c7-48d2-9a07-ca10798671bc"
      },
      "execution_count": 137,
      "outputs": [
        {
          "output_type": "stream",
          "name": "stdout",
          "text": [
            "Population Mean Age: 29.70\n",
            "Sample Mean Age: 26.91\n",
            "Z-Score: -1.52\n",
            "P-Value: 0.1296\n",
            "Fail to reject the null hypothesis: No significant difference between sample and population mean age.\n"
          ]
        }
      ]
    },
    {
      "cell_type": "code",
      "source": [
        "import numpy as np\n",
        "from scipy import stats\n",
        "\n",
        "# Step 1: Generate random data\n",
        "np.random.seed(0)\n",
        "sample = np.random.normal(loc=52, scale=10, size=100)  # mean=52, std=10, n=100\n",
        "\n",
        "# Step 2: Define population mean (hypothesized)\n",
        "population_mean = 50\n",
        "\n",
        "# Step 3: Calculate sample mean and sample size\n",
        "sample_mean = np.mean(sample)\n",
        "sample_size = len(sample)\n",
        "\n",
        "# Step 4: Assume known population standard deviation (Z-test requirement)\n",
        "population_std = 10\n",
        "\n",
        "# Step 5: Compute Standard Error\n",
        "standard_error = population_std / np.sqrt(sample_size)\n",
        "\n",
        "# Step 6: Calculate Z-score\n",
        "z_score = (sample_mean - population_mean) / standard_error\n",
        "\n",
        "# Step 7: Compute p-value (two-tailed test)\n",
        "p_value = 2 * (1 - stats.norm.cdf(abs(z_score)))\n",
        "\n",
        "# Step 8: Output results\n",
        "print(f\"Sample Mean: {sample_mean:.2f}\")\n",
        "print(f\"Z-score: {z_score:.2f}\")\n",
        "print(f\"P-value: {p_value:.4f}\")\n",
        "\n",
        "# Step 9: Interpretation\n",
        "if p_value < 0.05:\n",
        "    print(\"Reject the null hypothesis: Sample mean is significantly different from 50.\")\n",
        "else:\n",
        "    print(\"Fail to reject the null hypothesis: No significant difference from 50.\")\n"
      ],
      "metadata": {
        "colab": {
          "base_uri": "https://localhost:8080/"
        },
        "id": "ayR3d9kWCNrJ",
        "outputId": "a2588ea4-b40c-47c4-d582-023799c45edf"
      },
      "execution_count": 138,
      "outputs": [
        {
          "output_type": "stream",
          "name": "stdout",
          "text": [
            "Sample Mean: 52.60\n",
            "Z-score: 2.60\n",
            "P-value: 0.0094\n",
            "Reject the null hypothesis: Sample mean is significantly different from 50.\n"
          ]
        }
      ]
    },
    {
      "cell_type": "code",
      "source": [
        "# another way to find Z-test:\n",
        "# Step-1: Import libraries\n",
        "import numpy as np\n",
        "from statsmodels.stats import weightstats as stests\n",
        "\n",
        "# Step-2: Create a sample data\n",
        "ages = np.array([32, 34, 29, 29, 22, 39, 38, 37, 38, 36, 30, 26, 22, 22, 27, 29, 21, 20, 25, 24, 24, 26, 27, 28, 29, 30, 32, 34, 27, 29, 21, 20, 25, 24, 24, 26, 27, 28, 29, 30, 32, 34])\n",
        "\n",
        "# Step-3: Perform the Z-test\n",
        "z_statistic, p_value = stests.ztest(ages, value=30, alternative='two-sided')\n",
        "\n",
        "# Step-4: Print the results\n",
        "print(f\"z-statistic: {z_statistic}\")\n",
        "print(f\"p-value: {p_value}\")\n",
        "\n",
        "# print the results based on if else condition\n",
        "if p_value < 0.05:\n",
        "    print(\"Reject the null hypothesis,\\n as the sample mean is significantly different from the population mean.\")\n",
        "else:\n",
        "    print(\"Fail to reject the null hypothesis,\\n as the sample mean is not significantly different from the population mean.\")"
      ],
      "metadata": {
        "colab": {
          "base_uri": "https://localhost:8080/"
        },
        "id": "GvYKs_o1oa5P",
        "outputId": "e9cda396-5067-49bf-df42-cfd906bdedf8"
      },
      "execution_count": 142,
      "outputs": [
        {
          "output_type": "stream",
          "name": "stdout",
          "text": [
            "z-statistic: -2.2355502631512842\n",
            "p-value: 0.025381245676198847\n",
            "Reject the null hypothesis,\n",
            " as the sample mean is significantly different from the population mean.\n"
          ]
        }
      ]
    },
    {
      "cell_type": "code",
      "source": [
        "#  chi-square test\n",
        "\n",
        "import seaborn as sns\n",
        "import pandas as pd\n",
        "from scipy.stats import chi2_contingency\n",
        "\n",
        "# Load Titanic dataset\n",
        "titanic = sns.load_dataset('titanic')\n",
        "\n",
        "# Step 1: Create a contingency table\n",
        "contingency_table = pd.crosstab(titanic['sex'], titanic['survived'])\n",
        "\n",
        "# Step 2: Perform chi-square test of independence\n",
        "chi2, p_value, dof, expected = chi2_contingency(contingency_table)\n",
        "\n",
        "# Step 3: Output results\n",
        "print(\"Contingency Table:\")\n",
        "print(contingency_table, \"\\n\")\n",
        "\n",
        "print(f\"Chi-Square Statistic: {chi2}\")\n",
        "print(f\"Degrees of Freedom: {dof}\")\n",
        "print(f\"P-Value: {p_value:.4f}\")\n",
        "\n",
        "# Step 4: Conclusion\n",
        "if p_value < 0.05:\n",
        "    print(\"Reject the null hypothesis: Survival is associated with sex.\")\n",
        "else:\n",
        "    print(\"Fail to reject the null hypothesis: Survival is independent of sex.\")\n"
      ],
      "metadata": {
        "colab": {
          "base_uri": "https://localhost:8080/"
        },
        "id": "Sak7cIL_CNmW",
        "outputId": "e9f369ac-6199-4e8c-c7a6-da564bbcba28"
      },
      "execution_count": 139,
      "outputs": [
        {
          "output_type": "stream",
          "name": "stdout",
          "text": [
            "Contingency Table:\n",
            "survived    0    1\n",
            "sex               \n",
            "female     81  233\n",
            "male      468  109 \n",
            "\n",
            "Chi-Square Statistic: 260.71702016732104\n",
            "Degrees of Freedom: 1\n",
            "P-Value: 0.0000\n",
            "Reject the null hypothesis: Survival is associated with sex.\n"
          ]
        }
      ]
    },
    {
      "cell_type": "code",
      "source": [
        "import pandas as pd\n",
        "import seaborn as sns\n",
        "from scipy.stats import shapiro\n",
        "\n",
        "# Load Titanic data\n",
        "df = sns.load_dataset('titanic')\n",
        "\n",
        "# Drop missing values in 'age' (its a best way to assign a varible)\n",
        "age_data = df['age'].dropna()\n",
        "\n",
        "# Shapiro-Wilk Test\n",
        "stat, p_value = shapiro(age_data)\n",
        "\n",
        "print(f\"statistic = {stat}\")\n",
        "print(f\"p-value = {p_value:.4f}\")\n",
        "\n",
        "# Hypothesis decision\n",
        "if p_value < 0.05:\n",
        "    print(\"Reject null hypothesis: Age is normally distributed.\")\n",
        "else:\n",
        "    print(\"Fail to Reject null hypothesis: Age is not normally distributed.\")\n"
      ],
      "metadata": {
        "colab": {
          "base_uri": "https://localhost:8080/"
        },
        "id": "PAs2apG5UG3c",
        "outputId": "f119cefd-30f8-4cd5-98fb-cd8397db07c6"
      },
      "execution_count": 140,
      "outputs": [
        {
          "output_type": "stream",
          "name": "stdout",
          "text": [
            "statistic = 0.9814577414504954\n",
            "p-value = 0.0000\n",
            "Reject null hypothesis: Age is normally distributed.\n"
          ]
        }
      ]
    },
    {
      "cell_type": "code",
      "source": [
        "import matplotlib.pyplot as plt\n",
        "import seaborn as sns\n",
        "\n",
        "sns.histplot(age_data, kde=True, bins=30)\n",
        "plt.title(\"Histogram of Age\")\n",
        "plt.xlabel(\"Age\")\n",
        "plt.ylabel(\"Frequency\")\n",
        "plt.show()\n"
      ],
      "metadata": {
        "colab": {
          "base_uri": "https://localhost:8080/",
          "height": 472
        },
        "id": "0Wgua3WKWaHb",
        "outputId": "2bd34f2c-a2e9-4d13-9c9f-6dae28b7fc8f"
      },
      "execution_count": 141,
      "outputs": [
        {
          "output_type": "display_data",
          "data": {
            "text/plain": [
              "<Figure size 640x480 with 1 Axes>"
            ],
            "image/png": "[encoded data removed]"
          },
          "metadata": {}
        }
      ]
    },
    {
      "cell_type": "code",
      "source": [
        "# One-Way Anova (use for two or more than two groups:)\n",
        "\n",
        "import scipy.stats as stats\n",
        "\n",
        "# Sample data: Growth of plants with three types of fertilizers\n",
        "fertilizer1 = [20, 22, 19, 24, 25]\n",
        "fertilizer2 = [28, 30, 27, 26, 29]\n",
        "fertilizer3 = [18, 20, 22, 19, 24]\n",
        "\n",
        "# Perform the one-way ANOVA\n",
        "f_stat, p_val = stats.f_oneway(fertilizer1, fertilizer2, fertilizer3)\n",
        "\n",
        "print(\"F-statistic:\", f_stat)\n",
        "print(\"p-value:\", p_val)\n",
        "\n",
        "# print the results based on if the p-value is less than 0.05\n",
        "\n",
        "if p_val < 0.05:\n",
        "    print(f\"Reject null hypothesis: The means are not equal, as the p-value: {p_val} is less than 0.05\")\n",
        "else:\n",
        "    print(f\"Accept null hypothesis: The means are equal, as the p-value: {p_val} is greater than 0.05\")"
      ],
      "metadata": {
        "id": "rrht-tu8W9gt",
        "colab": {
          "base_uri": "https://localhost:8080/"
        },
        "outputId": "db62544e-95f8-4afe-9dc1-bb7f70683da2"
      },
      "execution_count": 143,
      "outputs": [
        {
          "output_type": "stream",
          "name": "stdout",
          "text": [
            "F-statistic: 15.662162162162158\n",
            "p-value: 0.00045154047609972817\n",
            "Reject null hypothesis: The means are not equal, as the p-value: 0.00045154047609972817 is less than 0.05\n"
          ]
        }
      ]
    },
    {
      "cell_type": "code",
      "source": [
        "# One-way ANOVA using statsmodels\n",
        "import pandas as pd\n",
        "import statsmodels.api as sm\n",
        "from statsmodels.formula.api import ols\n",
        "\n",
        "# Create a dataframe\n",
        "# Sample data: Growth of plants with three types of fertilizers\n",
        "fertilizer1 = [20, 22, 19, 24, 25]\n",
        "fertilizer2 = [28, 30, 27, 26, 29]\n",
        "fertilizer3 = [18, 20, 22, 19, 24]\n",
        "\n",
        "df = pd.DataFrame({\"fertilizer\": [\"fertilizer1\"] * 5 + [\"fertilizer2\"] * 5 + [\"fertilizer3\"] * 5,\n",
        "                   \"growth\": fertilizer1 + fertilizer2 + fertilizer3})\n",
        "\n",
        "# Fit the model\n",
        "model = ols(\"growth ~ fertilizer\", data=df).fit()\n",
        "\n",
        "# Perform ANOVA and print the summary table\n",
        "anova_table = sm.stats.anova_lm(model, typ=2)\n",
        "print(anova_table)\n",
        "\n",
        "# print the results based on if the p-value is less than 0.05\n",
        "if anova_table[\"PR(>F)\"][0] < 0.05:\n",
        "    print(f\"Reject null hypothesis: The means are not equal, as the p-value is less than 0.05\")\n",
        "else:\n",
        "    print(f\"Accept null hypothesis: The means are equal, as the p-value is greater than 0.05\")"
      ],
      "metadata": {
        "colab": {
          "base_uri": "https://localhost:8080/"
        },
        "id": "hL9Mlf9VpdEK",
        "outputId": "8f65e2bc-c2e6-432d-86dc-a72d70587746"
      },
      "execution_count": 144,
      "outputs": [
        {
          "output_type": "stream",
          "name": "stdout",
          "text": [
            "                sum_sq    df          F    PR(>F)\n",
            "fertilizer  154.533333   2.0  15.662162  0.000452\n",
            "Residual     59.200000  12.0        NaN       NaN\n",
            "Reject null hypothesis: The means are not equal, as the p-value is less than 0.05\n"
          ]
        },
        {
          "output_type": "stream",
          "name": "stderr",
          "text": [
            "/tmp/ipython-input-144-4020113244.py:23: FutureWarning: Series.__getitem__ treating keys as positions is deprecated. In a future version, integer keys will always be treated as labels (consistent with DataFrame behavior). To access a value by position, use `ser.iloc[pos]`\n",
            "  if anova_table[\"PR(>F)\"][0] < 0.05:\n"
          ]
        }
      ]
    },
    {
      "cell_type": "code",
      "source": [],
      "metadata": {
        "id": "xEdxvCLErKng"
      },
      "execution_count": null,
      "outputs": []
    }
  ]
}