{
  "nbformat": 4,
  "nbformat_minor": 0,
  "metadata": {
    "colab": {
      "provenance": [],
      "authorship_tag": "ABX9TyPCJrK2YID77V1LViTXy5sJ",
      "include_colab_link": true
    },
    "kernelspec": {
      "name": "python3",
      "display_name": "Python 3"
    },
    "language_info": {
      "name": "python"
    }
  },
  "cells": [
    {
      "cell_type": "markdown",
      "metadata": {
        "id": "view-in-github",
        "colab_type": "text"
      },
      "source": [
        "<a href=\"https://colab.research.google.com/github/khan5125/PythonPractice/blob/main/Python_Complete_course.ipynb\" target=\"_parent\"><img src=\"https://colab.research.google.com/assets/colab-badge.svg\" alt=\"Open In Colab\"/></a>"
      ]
    },
    {
      "cell_type": "markdown",
      "source": [
        "## **Chapter 1: First Program just using print statement**"
      ],
      "metadata": {
        "id": "b3_9hWEwOWs7"
      }
    },
    {
      "cell_type": "code",
      "execution_count": null,
      "metadata": {
        "id": "BaDQvBSz3dJV",
        "colab": {
          "base_uri": "https://localhost:8080/"
        },
        "outputId": "57e5e882-a426-437d-e766-5c6489c60cd2"
      },
      "outputs": [
        {
          "output_type": "stream",
          "name": "stdout",
          "text": [
            "6\n",
            "Hello! I am going to work on Python for data science\n"
          ]
        }
      ],
      "source": [
        "print(2+4)\n",
        "print (\"Hello! I am going to work on Python for data science\")\n"
      ]
    },
    {
      "cell_type": "markdown",
      "source": [
        "## **Chapter 2:  Operators**"
      ],
      "metadata": {
        "id": "JpgxdXuRZEjm"
      }
    },
    {
      "cell_type": "markdown",
      "source": [
        "**a) Arithmetic Operators**"
      ],
      "metadata": {
        "id": "Q1asqxA2yDtw"
      }
    },
    {
      "cell_type": "code",
      "source": [
        "# Here are Arithmetic operators\n",
        "\n",
        "# All Arithmetic Operators\n",
        "a = 5\n",
        "b = 2\n",
        "print(a + b)\n",
        "print(a - b)\n",
        "print(a * b)\n",
        "print(a / b)\n",
        "print(a // b)\n",
        "print(a % b)\n",
        "print(a ** b)\n",
        "\n",
        "# we can perform this by puting direct numbers\n",
        "\n",
        "# print(2 + 5)\n",
        "# print(7 - 2)\n",
        "# print(3 * 9)\n",
        "# print(27 / 9)\n",
        "# print(21 // 5)\n",
        "# print(9 % 2) # show the remaining number after dividing\n",
        "# print(2 ** 3)"
      ],
      "metadata": {
        "colab": {
          "base_uri": "https://localhost:8080/"
        },
        "id": "qbn6HKfCZMwc",
        "outputId": "8a8e3ed2-7b6c-411d-c1c7-4cb841dd8a97"
      },
      "execution_count": null,
      "outputs": [
        {
          "output_type": "stream",
          "name": "stdout",
          "text": [
            "7\n",
            "3\n",
            "10\n",
            "2.5\n",
            "2\n",
            "1\n",
            "25\n"
          ]
        }
      ]
    },
    {
      "cell_type": "markdown",
      "source": [
        "**b) Comparison Operators**"
      ],
      "metadata": {
        "id": "7wxbsM4Gzo2E"
      }
    },
    {
      "cell_type": "code",
      "source": [
        "is_greater = 1 > 5\n",
        "print(is_greater)\n",
        "is_lesser = 1 < 5\n",
        "print(is_lesser)\n",
        "\n",
        "is_equal = 1 == 5\n",
        "print(is_equal)\n",
        "is_not_equal = 1 != 5\n",
        "print(is_not_equal)\n",
        "\n",
        "is_greater_or_equal = 1 >= 5\n",
        "print(is_greater_or_equal)\n",
        "is_lesser_or_equal = 1 <= 5\n",
        "print(is_lesser_or_equal)\n"
      ],
      "metadata": {
        "colab": {
          "base_uri": "https://localhost:8080/"
        },
        "id": "Ewm5BMLFz-87",
        "outputId": "335eac75-613f-4519-e966-f29fc7ca3666"
      },
      "execution_count": null,
      "outputs": [
        {
          "output_type": "stream",
          "name": "stdout",
          "text": [
            "False\n",
            "True\n",
            "False\n",
            "True\n",
            "False\n",
            "True\n"
          ]
        }
      ]
    },
    {
      "cell_type": "markdown",
      "source": [
        "**c) Logical Operators**"
      ],
      "metadata": {
        "id": "4OainywC03Yu"
      }
    },
    {
      "cell_type": "code",
      "source": [
        "number = 2\n",
        "\n",
        "print(not number > 3)\n",
        "print(not number < 3)\n",
        "\n",
        "print(number > 3 and number < 3)\n",
        "print(number > 3 or number < 3)\n"
      ],
      "metadata": {
        "colab": {
          "base_uri": "https://localhost:8080/"
        },
        "id": "5S23iFXr0-K6",
        "outputId": "638fcbdc-9b92-4d0d-9af8-9942d3177ddd"
      },
      "execution_count": null,
      "outputs": [
        {
          "output_type": "stream",
          "name": "stdout",
          "text": [
            "True\n",
            "False\n",
            "False\n",
            "True\n"
          ]
        }
      ]
    },
    {
      "cell_type": "markdown",
      "source": [
        "## **Chapter 3: Strings ( '...' , \"...\" , '''...''' )**"
      ],
      "metadata": {
        "id": "QjoQBjDgcuR0"
      }
    },
    {
      "cell_type": "code",
      "source": [
        "print ('Test for Single quotes')\n",
        "print (\"Test for Double quotes\")\n",
        "print ('''Test for Tripple quotes''')"
      ],
      "metadata": {
        "colab": {
          "base_uri": "https://localhost:8080/"
        },
        "id": "ew4glmFzbUH8",
        "outputId": "8c1bfb57-6819-410a-b638-39e2ca54b5d9"
      },
      "execution_count": null,
      "outputs": [
        {
          "output_type": "stream",
          "name": "stdout",
          "text": [
            "Test for Single quotes\n",
            "Test for Double quotes\n",
            "Test for Tripple quotes\n"
          ]
        }
      ]
    },
    {
      "cell_type": "code",
      "source": [
        "name = \"Tony Stark\"\n",
        "print(name.upper())\n",
        "print(name.lower())\n",
        "print(name)"
      ],
      "metadata": {
        "colab": {
          "base_uri": "https://localhost:8080/"
        },
        "id": "9unAyTZStjxZ",
        "outputId": "478f4590-785c-4737-f3c5-ab61608955b0"
      },
      "execution_count": null,
      "outputs": [
        {
          "output_type": "stream",
          "name": "stdout",
          "text": [
            "TONY STARK\n",
            "tony stark\n",
            "Tony Stark\n"
          ]
        }
      ]
    },
    {
      "cell_type": "code",
      "source": [
        "# find index of the characters amd words: using \"find\" function;\n",
        "name = \"Tony Stark\"\n",
        "print(name.find('o'))\n",
        "print(name.find('a'))\n",
        "print(name.find('Stark'))\n",
        "print(name.find('Tony'))\n"
      ],
      "metadata": {
        "colab": {
          "base_uri": "https://localhost:8080/"
        },
        "id": "KcgUEaR-t35J",
        "outputId": "6bfd66e0-c2ad-4ffc-9b06-a09460688ad4"
      },
      "execution_count": null,
      "outputs": [
        {
          "output_type": "stream",
          "name": "stdout",
          "text": [
            "1\n",
            "7\n",
            "5\n",
            "0\n"
          ]
        }
      ]
    },
    {
      "cell_type": "code",
      "source": [
        "# replace names or words using \"replace\" function\n",
        "\n",
        "print(name.replace(\"Tony Stark\" , \"Ironman\"))\n",
        "print(name) # print original name for the comparision"
      ],
      "metadata": {
        "colab": {
          "base_uri": "https://localhost:8080/"
        },
        "id": "AzlpWzgMvBSF",
        "outputId": "52c6516c-9d9c-4ddc-a342-da0e6c246780"
      },
      "execution_count": null,
      "outputs": [
        {
          "output_type": "stream",
          "name": "stdout",
          "text": [
            "Ironman\n",
            "Tony Stark\n"
          ]
        }
      ]
    },
    {
      "cell_type": "code",
      "source": [
        "#to check if a character/string is part of the main string or not using \"in\" function\n",
        "name = \"Tony Stark\"\n",
        "\n",
        "print(\"Stark\" in name)\n",
        "print(\"v\" in name)\n",
        "print(\"y\" in name)\n"
      ],
      "metadata": {
        "colab": {
          "base_uri": "https://localhost:8080/"
        },
        "id": "gbcTRHQBvvZo",
        "outputId": "e6cc67d3-c6d3-4440-8883-adc11455af2e"
      },
      "execution_count": null,
      "outputs": [
        {
          "output_type": "stream",
          "name": "stdout",
          "text": [
            "True\n",
            "False\n",
            "True\n"
          ]
        }
      ]
    },
    {
      "cell_type": "markdown",
      "source": [
        "## **Chapter 4: Variables**"
      ],
      "metadata": {
        "id": "rhwRkNtEftR2"
      }
    },
    {
      "cell_type": "code",
      "source": [
        "name = \"shradha\"\n",
        "age = 22\n",
        "print(name)\n",
        "print(age)"
      ],
      "metadata": {
        "colab": {
          "base_uri": "https://localhost:8080/"
        },
        "id": "afx29m3wfsye",
        "outputId": "2da3176b-3442-44e0-c279-15508f6a1728"
      },
      "execution_count": null,
      "outputs": [
        {
          "output_type": "stream",
          "name": "stdout",
          "text": [
            "shradha\n",
            "22\n"
          ]
        }
      ]
    },
    {
      "cell_type": "code",
      "source": [
        "first_name = \"shradha\"\n",
        "last_name = \"khapra\"\n",
        "full_name = \"shardha khapra\"\n",
        "age = 10\n",
        "is_adult = False\n",
        "# we can print in both ways:\n",
        "#print ( first_name + \" \" + last_name )\n",
        "print (full_name)\n",
        "print ( age )\n",
        "print ( is_adult )\n",
        "\n",
        "\n"
      ],
      "metadata": {
        "colab": {
          "base_uri": "https://localhost:8080/"
        },
        "id": "NHsW-L4pg9Rg",
        "outputId": "bf26f46b-22c3-4ca9-8a54-d59e1f399e91"
      },
      "execution_count": null,
      "outputs": [
        {
          "output_type": "stream",
          "name": "stdout",
          "text": [
            "shardha khapra\n",
            "10\n",
            "False\n"
          ]
        }
      ]
    },
    {
      "cell_type": "code",
      "source": [
        "# Exercise; Type your name and your superhero name Using input function\n",
        "\n",
        "name = input (\"What is your name? \")\n",
        "print(\"Hello \" + name)\n",
        "superhero = input(\"What is your superhero name? \")\n",
        "print(superhero)\n"
      ],
      "metadata": {
        "colab": {
          "base_uri": "https://localhost:8080/"
        },
        "id": "rD9SYu59o5m7",
        "outputId": "388d9a35-e0fc-4d67-8f99-5a27ebdc3b58"
      },
      "execution_count": null,
      "outputs": [
        {
          "output_type": "stream",
          "name": "stdout",
          "text": [
            "What is your name? faisal\n",
            "Hello faisal\n",
            "What is your superhero name? khan\n",
            "khan\n"
          ]
        }
      ]
    },
    {
      "cell_type": "markdown",
      "source": [
        "## **Chapter 5: Type Conversion**"
      ],
      "metadata": {
        "id": "PM_E9Q2Qpfhh"
      }
    },
    {
      "cell_type": "code",
      "source": [
        "old_age = input (\"Enter your age : \")\n",
        "#new_age = old_age + 2\n",
        "#print(new_age)\n",
        "new_age = int(old_age) + 2\n",
        "print(new_age)\n",
        "\n",
        "#Useful converion functions\n",
        "# 1. float()\n",
        "# 2. bool()\n",
        "# 3. str()\n",
        "# 4. int()"
      ],
      "metadata": {
        "colab": {
          "base_uri": "https://localhost:8080/"
        },
        "id": "yuIfw7Qfp60u",
        "outputId": "daed08f5-1923-4956-b611-af1485bd93e8"
      },
      "execution_count": null,
      "outputs": [
        {
          "output_type": "stream",
          "name": "stdout",
          "text": [
            "Enter your age : 23\n",
            "25\n"
          ]
        }
      ]
    },
    {
      "cell_type": "code",
      "source": [
        "#Code for Sum of 2 Numbers\n",
        "\n",
        "first_number = input(\"Enter 1st number : \")\n",
        "second_number = input(\"Enter 2nd number : \")\n",
        "\n",
        "\n",
        "sum = int(first_number) + int(second_number)\n",
        "\n",
        "print(\"the sum is : \" + str(sum))\n"
      ],
      "metadata": {
        "colab": {
          "base_uri": "https://localhost:8080/"
        },
        "id": "5PZK8V7EquEB",
        "outputId": "e0609c1e-b4c7-4f21-e056-faf9806e4cf6"
      },
      "execution_count": null,
      "outputs": [
        {
          "output_type": "stream",
          "name": "stdout",
          "text": [
            "Enter 1st number : 23\n",
            "Enter 2nd number : 45\n",
            "the sum is : 68\n"
          ]
        }
      ]
    },
    {
      "cell_type": "markdown",
      "source": [
        "## **Chapter 6: If statements**"
      ],
      "metadata": {
        "id": "tm9N3Gau_bZt"
      }
    },
    {
      "cell_type": "code",
      "source": [
        "age = 10 # we can change this varible to check out all the conditions\n",
        "\n",
        "if age >= 18:\n",
        "  print(\"you are an adult and you can vote\")\n",
        "elif age <10:\n",
        "  print(\"you are a child\")\n",
        "else:\n",
        "  print(\"you are not an adult but you can not vote because you are under 18\")\n",
        "\n"
      ],
      "metadata": {
        "id": "Mw1dPP8swvAZ",
        "colab": {
          "base_uri": "https://localhost:8080/"
        },
        "outputId": "4753ce39-2092-404c-9e63-bc21569dfd5f"
      },
      "execution_count": null,
      "outputs": [
        {
          "output_type": "stream",
          "name": "stdout",
          "text": [
            "you are not an adult but you can not vote because you are under 18\n"
          ]
        }
      ]
    },
    {
      "cell_type": "markdown",
      "source": [
        "### **Let’s build a Calculator**\n",
        "### Short Exercise"
      ],
      "metadata": {
        "id": "GLiM8maDBn6I"
      }
    },
    {
      "cell_type": "code",
      "source": [
        "#Our Calculator\n",
        "first = input(\"Enter first number : \")\n",
        "first = int(first)\n",
        "operator = input(\"Enter operator : \")\n",
        "second = input(\"Enter second number : \")\n",
        "second = int(second)\n",
        "\n",
        "\n",
        "if operator == \"+\":\n",
        "  print(first + second)\n",
        "elif operator == \"-\":\n",
        "  print(first - second)\n",
        "elif operator == \"*\":\n",
        "  print(first * second)\n",
        "elif operator == \"/\":\n",
        "  print(first / second)\n",
        "elif operator == \"%\":\n",
        "  print(first % second)\n",
        "else:\n",
        "  print(\"Invalid Operation\")"
      ],
      "metadata": {
        "id": "VIHLj2nzE9yW",
        "outputId": "f1d0d3cb-f6c0-480e-bb1c-639a5324009d",
        "colab": {
          "base_uri": "https://localhost:8080/"
        }
      },
      "execution_count": null,
      "outputs": [
        {
          "output_type": "stream",
          "name": "stdout",
          "text": [
            "Enter first number : 3\n",
            "Enter operator : -\n",
            "Enter second number : 5\n",
            "-2\n"
          ]
        }
      ]
    },
    {
      "cell_type": "markdown",
      "source": [
        "## **Chaptet 7: Range in Python**"
      ],
      "metadata": {
        "id": "x1-PCyzJGKD_"
      }
    },
    {
      "cell_type": "code",
      "source": [
        "numbers = range(4) # we can put any number here\n",
        "print(numbers) # it will show the range of numbers\n",
        "\n",
        "# using \"for loop\"\n",
        "for number in numbers:\n",
        "  print(number)\n",
        "  number = number + 1 # we can also run without this \"line of code\"\n"
      ],
      "metadata": {
        "id": "EZbexZWMHKzs",
        "outputId": "4c72ac72-cf66-4ef9-9c4e-0ab69b47e27d",
        "colab": {
          "base_uri": "https://localhost:8080/"
        }
      },
      "execution_count": null,
      "outputs": [
        {
          "output_type": "stream",
          "name": "stdout",
          "text": [
            "range(0, 4)\n",
            "0\n",
            "1\n",
            "2\n",
            "3\n"
          ]
        }
      ]
    },
    {
      "cell_type": "code",
      "source": [
        "# prompt: range in numbers\n",
        "\n",
        "#for number in range(5):  # Creates a sequence from 0 up to (but not including) 5\n",
        "# print(number)\n",
        "\n",
        "\n",
        "for i in range(2, 8):  # Creates a sequence from 2 up to (but not including) 8\n",
        "  print(i)\n",
        "\n",
        "\n",
        "\n",
        "#for i in range(1, 10, 2):  # Creates a sequence from 1 up to (but not including) 10, incrementing by 2\n",
        "#  print(i)\n"
      ],
      "metadata": {
        "id": "Hgz_mMd7IKkB",
        "outputId": "296d43ce-b72f-475a-ff19-2c0a6388ff96",
        "colab": {
          "base_uri": "https://localhost:8080/"
        }
      },
      "execution_count": null,
      "outputs": [
        {
          "output_type": "stream",
          "name": "stdout",
          "text": [
            "2\n",
            "3\n",
            "4\n",
            "5\n",
            "6\n",
            "7\n"
          ]
        }
      ]
    },
    {
      "cell_type": "code",
      "source": [
        "# prompt: range with while loop\n",
        "\n",
        "# Using a while loop to achieve the same functionality as range\n",
        "i = 0\n",
        "while i < 5:  # You can change the 5 to the desired upper limit\n",
        "  print(i * \"+\")\n",
        "  i = i + 1  # Increment i in each iteration\n"
      ],
      "metadata": {
        "id": "0FqRiZdqJl5f",
        "outputId": "3c4cb54f-605a-468f-fde7-32d320a0accb",
        "colab": {
          "base_uri": "https://localhost:8080/"
        }
      },
      "execution_count": null,
      "outputs": [
        {
          "output_type": "stream",
          "name": "stdout",
          "text": [
            "\n",
            "+\n",
            "++\n",
            "+++\n",
            "++++\n"
          ]
        }
      ]
    },
    {
      "cell_type": "code",
      "source": [
        "# prompt: while loop in range with operators\n",
        "\n",
        "i = 0\n",
        "while i < 10:  # You can change the 5 to the desired upper limit\n",
        "  print(i * \"+\")\n",
        "  i += 1  # Increment i in each iteration\n",
        "\n",
        "i = 0\n",
        "while i < 5:\n",
        "  print(i)\n",
        "  i = i + 1\n",
        "\n",
        "i = 0\n",
        "while i < 10:\n",
        "  if i % 2 == 0:\n",
        "    print(i)\n",
        "  i = i + 1\n"
      ],
      "metadata": {
        "id": "DyCP_nBAMCrY",
        "outputId": "52a80367-2ec1-45e1-bf9f-8b1bd439308b",
        "colab": {
          "base_uri": "https://localhost:8080/"
        }
      },
      "execution_count": null,
      "outputs": [
        {
          "output_type": "stream",
          "name": "stdout",
          "text": [
            "\n",
            "+\n",
            "++\n",
            "+++\n",
            "++++\n",
            "+++++\n",
            "++++++\n",
            "+++++++\n",
            "++++++++\n",
            "+++++++++\n",
            "0\n",
            "1\n",
            "2\n",
            "3\n",
            "4\n",
            "0\n",
            "2\n",
            "4\n",
            "6\n",
            "8\n"
          ]
        }
      ]
    },
    {
      "cell_type": "markdown",
      "source": [
        "## **Chapter 8: Lists**"
      ],
      "metadata": {
        "id": "3DraysWTNI3T"
      }
    },
    {
      "cell_type": "code",
      "source": [
        "friends = [\"amar\", \"akbar\", \"anthony\"]\n",
        "print(friends) # show the whole list\n",
        "\n",
        "# these commands will the names with relevant numbers\n",
        "print(friends[0])\n",
        "print(friends[2])\n",
        "print(friends[1])\n",
        "\n"
      ],
      "metadata": {
        "id": "_PQ05h6KNULx",
        "outputId": "056976ce-4d75-44c2-e06b-8f06a5664371",
        "colab": {
          "base_uri": "https://localhost:8080/"
        }
      },
      "execution_count": null,
      "outputs": [
        {
          "output_type": "stream",
          "name": "stdout",
          "text": [
            "['amar', 'akbar', 'anthony']\n",
            "amar\n",
            "anthony\n",
            "akbar\n"
          ]
        }
      ]
    },
    {
      "cell_type": "code",
      "source": [
        "# to replace the name from the list\n",
        "friends[2] = \"aman\"\n",
        "print(friends)"
      ],
      "metadata": {
        "id": "XWc6RqWtOiOH",
        "outputId": "7ecf75b0-ed68-4fd8-b97f-aa6a8c4f685c",
        "colab": {
          "base_uri": "https://localhost:8080/"
        }
      },
      "execution_count": null,
      "outputs": [
        {
          "output_type": "stream",
          "name": "stdout",
          "text": [
            "['amar', 'akbar', 'aman']\n"
          ]
        }
      ]
    },
    {
      "cell_type": "code",
      "source": [
        "print(friends[0:2]) # not including 2 (only 0 and 1)"
      ],
      "metadata": {
        "id": "mT1LQO1COou0",
        "outputId": "f4efe44c-ece2-4955-ca35-02a7b151d362",
        "colab": {
          "base_uri": "https://localhost:8080/"
        }
      },
      "execution_count": null,
      "outputs": [
        {
          "output_type": "stream",
          "name": "stdout",
          "text": [
            "['amar', 'akbar']\n"
          ]
        }
      ]
    },
    {
      "cell_type": "code",
      "source": [
        "for i in friends: # Here \"i\" is a new variable and we can put the name of the variable as we want\n",
        "  print(i)"
      ],
      "metadata": {
        "id": "vrlN9CP-PHNO",
        "outputId": "12c564f2-d50c-4da2-d79a-1a8ba6442aa7",
        "colab": {
          "base_uri": "https://localhost:8080/"
        }
      },
      "execution_count": null,
      "outputs": [
        {
          "output_type": "stream",
          "name": "stdout",
          "text": [
            "amar\n",
            "akbar\n",
            "aman\n"
          ]
        }
      ]
    },
    {
      "cell_type": "markdown",
      "source": [
        "**Different type of functions in the list we can preform**"
      ],
      "metadata": {
        "id": "bM4eT-ePkMft"
      }
    },
    {
      "cell_type": "code",
      "source": [
        "# \"append\" function means add anything at the end of the list\n",
        "marks = [\"english\", 95, \"chemistry\", 98]\n",
        "#marks.append(\"physics\")\n",
        "#marks.append(97)\n",
        "# another way\n",
        "marks.append(\"physics, 93\")\n",
        "print(marks)\n"
      ],
      "metadata": {
        "colab": {
          "base_uri": "https://localhost:8080/"
        },
        "id": "nbAej-l0gJ-X",
        "outputId": "cf4483a6-b9e5-4aad-f710-372e128ff9bd"
      },
      "execution_count": 10,
      "outputs": [
        {
          "output_type": "stream",
          "name": "stdout",
          "text": [
            "['english', 95, 'chemistry', 98, 'physics, 93']\n"
          ]
        }
      ]
    },
    {
      "cell_type": "code",
      "source": [
        "# \"insert\" function means add anything at any position in the list.\n",
        "marks.insert(0, \"Bio\")\n",
        "marks.insert(1, 100)\n",
        "print(marks)\n"
      ],
      "metadata": {
        "colab": {
          "base_uri": "https://localhost:8080/"
        },
        "id": "dluwUISbin7L",
        "outputId": "a6937bf3-fb3e-4412-cc8b-0f6f2d318755"
      },
      "execution_count": 11,
      "outputs": [
        {
          "output_type": "stream",
          "name": "stdout",
          "text": [
            "['Bio', 100, 'english', 95, 'chemistry', 98, 'physics, 93']\n"
          ]
        }
      ]
    },
    {
      "cell_type": "code",
      "source": [
        "\n",
        "# Method 1: Using remove() - removes the first occurrence of the element\n",
        "if \"chemistry, 98\" in marks:\n",
        "  marks.remove(\"chemistry, 98\")\n",
        "  # Also remove the corresponding score (98)\n",
        "  #if 98 in marks:\n",
        "   # marks.remove(98)\n",
        "marks\n",
        "\n",
        "\n",
        "# Method 2: Using index and del - if you know the index of the subject\n",
        "# index_to_remove = marks.index(\"chemistry\")\n",
        "# del marks[index_to_remove]\n",
        "\n",
        "# # Also remove the corresponding score\n",
        "# score_index = index_to_remove + 1\n",
        "# del marks[score_index]\n",
        "# print(marks)\n"
      ],
      "metadata": {
        "colab": {
          "base_uri": "https://localhost:8080/"
        },
        "id": "0JNqsj9gh0Ba",
        "outputId": "36d75c54-b55a-4cb3-b7a6-548f134adcf6"
      },
      "execution_count": 13,
      "outputs": [
        {
          "output_type": "execute_result",
          "data": {
            "text/plain": [
              "['Bio', 100, 'english', 95, 'physics, 93']"
            ]
          },
          "metadata": {},
          "execution_count": 13
        }
      ]
    },
    {
      "cell_type": "code",
      "source": [
        "marks.remove(\"physics, 93\")\n",
        "print(marks)"
      ],
      "metadata": {
        "colab": {
          "base_uri": "https://localhost:8080/"
        },
        "id": "zdMoCgtSjmv_",
        "outputId": "cf83b454-d769-47b6-c559-a6f23f7d9748"
      },
      "execution_count": 14,
      "outputs": [
        {
          "output_type": "stream",
          "name": "stdout",
          "text": [
            "['Bio', 100, 'english', 95]\n"
          ]
        }
      ]
    },
    {
      "cell_type": "code",
      "source": [
        "print (\"math\" in marks) # we can check eitehr any subjects listed in the list"
      ],
      "metadata": {
        "colab": {
          "base_uri": "https://localhost:8080/"
        },
        "id": "BDI-AZc2j3M-",
        "outputId": "450dcb39-f7c3-4fe5-e22f-2c3a79c32a27"
      },
      "execution_count": 17,
      "outputs": [
        {
          "output_type": "stream",
          "name": "stdout",
          "text": [
            "False\n"
          ]
        }
      ]
    },
    {
      "cell_type": "code",
      "source": [
        "# Break and Continue functions\n",
        "\n",
        "std = [\"ram\", \"sham\", \"kishan\", \"radha\", \"radhika\"]\n",
        "\n",
        "\n",
        "for i in std:\n",
        "  if i == \"radha\":\n",
        "    break\n",
        "  print(i)\n",
        "\n"
      ],
      "metadata": {
        "colab": {
          "base_uri": "https://localhost:8080/"
        },
        "id": "4tc7WMD_mtod",
        "outputId": "dcd2a72b-cf6b-4b7e-912c-74cc23c55a80"
      },
      "execution_count": 7,
      "outputs": [
        {
          "output_type": "stream",
          "name": "stdout",
          "text": [
            "ram\n",
            "sham\n",
            "kishan\n"
          ]
        }
      ]
    },
    {
      "cell_type": "code",
      "source": [
        "for i in std:\n",
        "  if i == \"radha\":\n",
        "    continue\n",
        "  print(i)"
      ],
      "metadata": {
        "colab": {
          "base_uri": "https://localhost:8080/"
        },
        "id": "BO0XHWAnn_s5",
        "outputId": "2031747d-3c38-4933-c4ae-f9aa73926a81"
      },
      "execution_count": 8,
      "outputs": [
        {
          "output_type": "stream",
          "name": "stdout",
          "text": [
            "ram\n",
            "sham\n",
            "kishan\n",
            "radhika\n"
          ]
        }
      ]
    },
    {
      "cell_type": "markdown",
      "source": [
        "## **Chapter 9: Tuples**\n",
        "They are like lists (sequence of objects) but they are immutable i.e. once they have beendefined we cannot change them. Parenthesis in tuples are optional."
      ],
      "metadata": {
        "id": "fU25tBNyoM5B"
      }
    },
    {
      "cell_type": "code",
      "source": [
        "marks = (95, 98, 97)\n",
        "print(marks)\n",
        "\n",
        "#marks[0] = 98 we can not assign / insert any item in \"tuple\"\n",
        "\n",
        "print(marks.index(97))"
      ],
      "metadata": {
        "colab": {
          "base_uri": "https://localhost:8080/"
        },
        "id": "3imItfB8ogIN",
        "outputId": "2bfd1b0f-e805-4ba1-8c01-fa2e772aa09f"
      },
      "execution_count": 14,
      "outputs": [
        {
          "output_type": "stream",
          "name": "stdout",
          "text": [
            "(95, 98, 97)\n",
            "2\n"
          ]
        }
      ]
    },
    {
      "cell_type": "markdown",
      "source": [
        "## **Chapter 10: Sets**\n",
        "Sets are a collection of all unique elements. Indexing is not supported in sets."
      ],
      "metadata": {
        "id": "l71-mDeRpmIU"
      }
    },
    {
      "cell_type": "code",
      "source": [
        "marks = {95, 98, 97}\n",
        "print(marks)\n",
        "\n",
        "# TO Horizontal to Vertical\n",
        "for score in marks:\n",
        "  print(score)"
      ],
      "metadata": {
        "colab": {
          "base_uri": "https://localhost:8080/"
        },
        "id": "EEKPf42rp1xt",
        "outputId": "0845cd3e-e5e4-44dc-92f7-608e61e71fa7"
      },
      "execution_count": 17,
      "outputs": [
        {
          "output_type": "stream",
          "name": "stdout",
          "text": [
            "{97, 98, 95}\n",
            "97\n",
            "98\n",
            "95\n"
          ]
        }
      ]
    },
    {
      "cell_type": "markdown",
      "source": [
        "## **Dictionary**\n",
        "Dictionary is an unordered collection of Items. Dictionary stores a (key, value) pair."
      ],
      "metadata": {
        "id": "lCo_GXFyw3Vi"
      }
    },
    {
      "cell_type": "code",
      "source": [
        "marks ={\"math\":99, \"chemistry\":98, \"physics\":97}\n",
        "print(marks)\n",
        "\n",
        "print(marks[\"math\"]) # Here! we can show numbers of different subjects"
      ],
      "metadata": {
        "id": "Yh08xeumw-I0",
        "outputId": "3d02ca14-e94c-49f5-fa3b-7e3794ddcf95",
        "colab": {
          "base_uri": "https://localhost:8080/"
        }
      },
      "execution_count": 35,
      "outputs": [
        {
          "output_type": "stream",
          "name": "stdout",
          "text": [
            "{'math': 99, 'chemistry': 98, 'physics': 97}\n",
            "99\n"
          ]
        }
      ]
    },
    {
      "cell_type": "code",
      "source": [
        "# insert another subject with marks in dictionary\n",
        "marks[\"english\"] = 95\n",
        "marks[\"Bio\"] = 90\n",
        "print(marks)\n"
      ],
      "metadata": {
        "id": "tk-TnUuxxWB3",
        "outputId": "4bc52913-5ac1-456e-e740-465a95697d48",
        "colab": {
          "base_uri": "https://localhost:8080/"
        }
      },
      "execution_count": 37,
      "outputs": [
        {
          "output_type": "stream",
          "name": "stdout",
          "text": [
            "{'math': 99, 'chemistry': 98, 'physics': 97, 'english': 95, 'Bio': 90}\n"
          ]
        }
      ]
    },
    {
      "cell_type": "markdown",
      "source": [
        "## **Functions in Python**\n",
        "Function is a piece of code that performs some task. (In a tv remote, each button performs afunctions, so a function is like that button in code):"
      ],
      "metadata": {
        "id": "HygMLr9Jxs2b"
      }
    },
    {
      "cell_type": "markdown",
      "source": [
        "**a. Module functions**\n",
        "\n",
        "Module is a file that contains some functions & variables which can be imported for use in otherfiles. Each module should contain some related tasks Example : math, random, string"
      ],
      "metadata": {
        "id": "xzDynspByNeX"
      }
    },
    {
      "cell_type": "code",
      "source": [
        "import math\n",
        "print(dir(math))"
      ],
      "metadata": {
        "id": "NqYS_fKdyWpc",
        "outputId": "52ca28b4-f2c4-486c-84c7-37407dc63ba4",
        "colab": {
          "base_uri": "https://localhost:8080/"
        }
      },
      "execution_count": 38,
      "outputs": [
        {
          "output_type": "stream",
          "name": "stdout",
          "text": [
            "['__doc__', '__loader__', '__name__', '__package__', '__spec__', 'acos', 'acosh', 'asin', 'asinh', 'atan', 'atan2', 'atanh', 'ceil', 'comb', 'copysign', 'cos', 'cosh', 'degrees', 'dist', 'e', 'erf', 'erfc', 'exp', 'expm1', 'fabs', 'factorial', 'floor', 'fmod', 'frexp', 'fsum', 'gamma', 'gcd', 'hypot', 'inf', 'isclose', 'isfinite', 'isinf', 'isnan', 'isqrt', 'lcm', 'ldexp', 'lgamma', 'log', 'log10', 'log1p', 'log2', 'modf', 'nan', 'nextafter', 'perm', 'pi', 'pow', 'prod', 'radians', 'remainder', 'sin', 'sinh', 'sqrt', 'tan', 'tanh', 'tau', 'trunc', 'ulp']\n"
          ]
        }
      ]
    },
    {
      "cell_type": "code",
      "source": [
        "import random\n",
        "print(dir(random))"
      ],
      "metadata": {
        "id": "0mov1TU3yjdE",
        "outputId": "7b88a045-1129-471f-e7d6-9e83c97d5d47",
        "colab": {
          "base_uri": "https://localhost:8080/"
        }
      },
      "execution_count": 39,
      "outputs": [
        {
          "output_type": "stream",
          "name": "stdout",
          "text": [
            "['BPF', 'LOG4', 'NV_MAGICCONST', 'RECIP_BPF', 'Random', 'SG_MAGICCONST', 'SystemRandom', 'TWOPI', '_ONE', '_Sequence', '_Set', '__all__', '__builtins__', '__cached__', '__doc__', '__file__', '__loader__', '__name__', '__package__', '__spec__', '_accumulate', '_acos', '_bisect', '_ceil', '_cos', '_e', '_exp', '_floor', '_index', '_inst', '_isfinite', '_log', '_os', '_pi', '_random', '_repeat', '_sha512', '_sin', '_sqrt', '_test', '_test_generator', '_urandom', '_warn', 'betavariate', 'choice', 'choices', 'expovariate', 'gammavariate', 'gauss', 'getrandbits', 'getstate', 'lognormvariate', 'normalvariate', 'paretovariate', 'randbytes', 'randint', 'random', 'randrange', 'sample', 'seed', 'setstate', 'shuffle', 'triangular', 'uniform', 'vonmisesvariate', 'weibullvariate']\n"
          ]
        }
      ]
    },
    {
      "cell_type": "code",
      "source": [
        "import string\n",
        "print(dir(string))"
      ],
      "metadata": {
        "id": "KbXOA6tLyrVn",
        "outputId": "86721b50-7e2d-4f0c-ae66-0f598c87e0e1",
        "colab": {
          "base_uri": "https://localhost:8080/"
        }
      },
      "execution_count": 40,
      "outputs": [
        {
          "output_type": "stream",
          "name": "stdout",
          "text": [
            "['Formatter', 'Template', '_ChainMap', '__all__', '__builtins__', '__cached__', '__doc__', '__file__', '__loader__', '__name__', '__package__', '__spec__', '_re', '_sentinel_dict', '_string', 'ascii_letters', 'ascii_lowercase', 'ascii_uppercase', 'capwords', 'digits', 'hexdigits', 'octdigits', 'printable', 'punctuation', 'whitespace']\n"
          ]
        }
      ]
    },
    {
      "cell_type": "code",
      "source": [
        "from math import sqrt\n",
        "print(sqrt(144))\n"
      ],
      "metadata": {
        "id": "wqK584M6yx-x",
        "outputId": "eed04f3e-cc48-42db-ecbb-da5afde00290",
        "colab": {
          "base_uri": "https://localhost:8080/"
        }
      },
      "execution_count": 42,
      "outputs": [
        {
          "output_type": "stream",
          "name": "stdout",
          "text": [
            "12.0\n"
          ]
        }
      ]
    },
    {
      "cell_type": "markdown",
      "source": [
        "**b. User-defined functions**"
      ],
      "metadata": {
        "id": "zDrAiqgCy9Je"
      }
    },
    {
      "cell_type": "code",
      "source": [
        "def sum(a, b = 4):\n",
        "  print(a + b)\n",
        "sum(1, 2)\n",
        "sum(1)"
      ],
      "metadata": {
        "id": "9CO-MTEszDb3",
        "outputId": "7464b5bc-1157-477d-aaaf-c5ded491162f",
        "colab": {
          "base_uri": "https://localhost:8080/"
        }
      },
      "execution_count": 47,
      "outputs": [
        {
          "output_type": "stream",
          "name": "stdout",
          "text": [
            "3\n",
            "5\n"
          ]
        }
      ]
    }
  ]
}