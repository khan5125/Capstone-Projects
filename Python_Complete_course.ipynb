{
  "nbformat": 4,
  "nbformat_minor": 0,
  "metadata": {
    "colab": {
      "provenance": [],
      "authorship_tag": "ABX9TyNhGjyVsiYLqJLpRkNn0AUR",
      "include_colab_link": true
    },
    "kernelspec": {
      "name": "python3",
      "display_name": "Python 3"
    },
    "language_info": {
      "name": "python"
    }
  },
  "cells": [
    {
      "cell_type": "markdown",
      "metadata": {
        "id": "view-in-github",
        "colab_type": "text"
      },
      "source": [
        "<a href=\"https://colab.research.google.com/github/khan5125/PythonPractice/blob/main/Python_Complete_course.ipynb\" target=\"_parent\"><img src=\"https://colab.research.google.com/assets/colab-badge.svg\" alt=\"Open In Colab\"/></a>"
      ]
    },
    {
      "cell_type": "markdown",
      "source": [
        "**Chapter 1:** First Program just using print statement"
      ],
      "metadata": {
        "id": "b3_9hWEwOWs7"
      }
    },
    {
      "cell_type": "code",
      "execution_count": 5,
      "metadata": {
        "id": "BaDQvBSz3dJV",
        "colab": {
          "base_uri": "https://localhost:8080/"
        },
        "outputId": "ced9cb62-be94-40de-edd0-2acc0675ae13"
      },
      "outputs": [
        {
          "output_type": "stream",
          "name": "stdout",
          "text": [
            "6\n",
            "Hello! I am going to work on Python for data science\n"
          ]
        }
      ],
      "source": [
        "print(2+4)\n",
        "print (\"Hello! I am going to work on Python for data science\")\n"
      ]
    },
    {
      "cell_type": "markdown",
      "source": [
        "**Chapter 2:** Operators"
      ],
      "metadata": {
        "id": "JpgxdXuRZEjm"
      }
    },
    {
      "cell_type": "code",
      "source": [],
      "metadata": {
        "id": "qbn6HKfCZMwc"
      },
      "execution_count": null,
      "outputs": []
    }
  ]
}