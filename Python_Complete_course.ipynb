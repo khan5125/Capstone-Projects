{
  "nbformat": 4,
  "nbformat_minor": 0,
  "metadata": {
    "colab": {
      "provenance": [],
      "authorship_tag": "ABX9TyM81N4bbVmqtVqAiOArtFlb",
      "include_colab_link": true
    },
    "kernelspec": {
      "name": "python3",
      "display_name": "Python 3"
    },
    "language_info": {
      "name": "python"
    }
  },
  "cells": [
    {
      "cell_type": "markdown",
      "metadata": {
        "id": "view-in-github",
        "colab_type": "text"
      },
      "source": [
        "<a href=\"https://colab.research.google.com/github/khan5125/PythonPractice/blob/main/Python_Complete_course.ipynb\" target=\"_parent\"><img src=\"https://colab.research.google.com/assets/colab-badge.svg\" alt=\"Open In Colab\"/></a>"
      ]
    },
    {
      "cell_type": "markdown",
      "source": [
        "**Chapter 1:** First Program just using print statement"
      ],
      "metadata": {
        "id": "b3_9hWEwOWs7"
      }
    },
    {
      "cell_type": "code",
      "execution_count": null,
      "metadata": {
        "id": "BaDQvBSz3dJV",
        "colab": {
          "base_uri": "https://localhost:8080/"
        },
        "outputId": "ced9cb62-be94-40de-edd0-2acc0675ae13"
      },
      "outputs": [
        {
          "output_type": "stream",
          "name": "stdout",
          "text": [
            "6\n",
            "Hello! I am going to work on Python for data science\n"
          ]
        }
      ],
      "source": [
        "print(2+4)\n",
        "print (\"Hello! I am going to work on Python for data science\")\n"
      ]
    },
    {
      "cell_type": "markdown",
      "source": [
        "**Chapter 2:** Operators"
      ],
      "metadata": {
        "id": "JpgxdXuRZEjm"
      }
    },
    {
      "cell_type": "code",
      "source": [
        "# Here are 4 operators\n",
        "\n",
        "print(2 + 5)\n",
        "print(7 - 2)\n",
        "print(3 * 9)\n",
        "print(27 / 9)\n",
        "print(21 // 5)\n",
        "print(9 % 2) # show the remaining number after dividing\n",
        "print(2 ** 3)"
      ],
      "metadata": {
        "colab": {
          "base_uri": "https://localhost:8080/"
        },
        "id": "qbn6HKfCZMwc",
        "outputId": "88650bfb-8bd6-4bcb-c460-f5dda0030a15"
      },
      "execution_count": null,
      "outputs": [
        {
          "output_type": "stream",
          "name": "stdout",
          "text": [
            "7\n",
            "5\n",
            "27\n",
            "3.0\n",
            "4\n",
            "1\n",
            "8\n"
          ]
        }
      ]
    },
    {
      "cell_type": "code",
      "source": [
        "# we can run directly all operators one by one without \"Print\" statement (we can not run all the operators at one time without \"Print Statement\")\n",
        "\n",
        "# 3 + 8\n",
        "# 4 - 1\n",
        "# 5 * 9\n",
        "# 6 / 2\n",
        "6 // 2"
      ],
      "metadata": {
        "colab": {
          "base_uri": "https://localhost:8080/"
        },
        "id": "2kyiLxKIai1J",
        "outputId": "0ecb3fa7-4180-463a-b078-8bec7f73c225"
      },
      "execution_count": null,
      "outputs": [
        {
          "output_type": "execute_result",
          "data": {
            "text/plain": [
              "3"
            ]
          },
          "metadata": {},
          "execution_count": 12
        }
      ]
    },
    {
      "cell_type": "markdown",
      "source": [
        "**Chapter 3:** Strings ( '...' , \"...\" , '''...''' )"
      ],
      "metadata": {
        "id": "QjoQBjDgcuR0"
      }
    },
    {
      "cell_type": "code",
      "source": [
        "print ('Test for Single quotes')\n",
        "print (\"Test for Double quotes\")\n",
        "print ('''Test for Tripple quotes''')"
      ],
      "metadata": {
        "colab": {
          "base_uri": "https://localhost:8080/"
        },
        "id": "ew4glmFzbUH8",
        "outputId": "a643fc97-0b04-4363-f9f7-e82fa43f4d84"
      },
      "execution_count": null,
      "outputs": [
        {
          "output_type": "stream",
          "name": "stdout",
          "text": [
            "Test for Single quotes\n",
            "Test for Double quotes\n",
            "Test for Tripple quotes\n"
          ]
        }
      ]
    },
    {
      "cell_type": "markdown",
      "source": [
        "**Chapter 4:** Variables"
      ],
      "metadata": {
        "id": "rhwRkNtEftR2"
      }
    },
    {
      "cell_type": "code",
      "source": [
        "name = \"shradha\"\n",
        "age = 22\n",
        "print(name)\n",
        "print(age)"
      ],
      "metadata": {
        "colab": {
          "base_uri": "https://localhost:8080/"
        },
        "id": "afx29m3wfsye",
        "outputId": "d7ca24f5-0c75-4d86-becd-1c5a781915cb"
      },
      "execution_count": null,
      "outputs": [
        {
          "output_type": "stream",
          "name": "stdout",
          "text": [
            "shradha\n",
            "22\n"
          ]
        }
      ]
    },
    {
      "cell_type": "code",
      "source": [
        "first_name = \"shradha\"\n",
        "last_name = \"khapra\"\n",
        "full_name = \"shardha khapra\"\n",
        "age = 10\n",
        "is_adult = False\n",
        "# we can print in both ways:\n",
        "#print ( first_name + \" \" + last_name )\n",
        "print (full_name)\n",
        "print ( age )\n",
        "print ( is_adult )\n",
        "\n",
        "\n"
      ],
      "metadata": {
        "colab": {
          "base_uri": "https://localhost:8080/"
        },
        "id": "NHsW-L4pg9Rg",
        "outputId": "707c5926-3d9d-45ee-c061-d511eff2fe43"
      },
      "execution_count": null,
      "outputs": [
        {
          "output_type": "stream",
          "name": "stdout",
          "text": [
            "shardha khapra\n",
            "10\n",
            "False\n"
          ]
        }
      ]
    }
  ]
}