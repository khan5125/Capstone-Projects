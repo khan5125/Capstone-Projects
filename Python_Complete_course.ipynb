{
  "nbformat": 4,
  "nbformat_minor": 0,
  "metadata": {
    "colab": {
      "provenance": [],
      "authorship_tag": "ABX9TyMzHj9twdV1Xat4i0KJFYLr",
      "include_colab_link": true
    },
    "kernelspec": {
      "name": "python3",
      "display_name": "Python 3"
    },
    "language_info": {
      "name": "python"
    }
  },
  "cells": [
    {
      "cell_type": "markdown",
      "metadata": {
        "id": "view-in-github",
        "colab_type": "text"
      },
      "source": [
        "<a href=\"https://colab.research.google.com/github/khan5125/PythonPractice/blob/main/Python_Complete_course.ipynb\" target=\"_parent\"><img src=\"https://colab.research.google.com/assets/colab-badge.svg\" alt=\"Open In Colab\"/></a>"
      ]
    },
    {
      "cell_type": "markdown",
      "source": [
        "## **Chapter 1: First Program just using print statement**"
      ],
      "metadata": {
        "id": "b3_9hWEwOWs7"
      }
    },
    {
      "cell_type": "code",
      "execution_count": null,
      "metadata": {
        "id": "BaDQvBSz3dJV",
        "colab": {
          "base_uri": "https://localhost:8080/"
        },
        "outputId": "ced9cb62-be94-40de-edd0-2acc0675ae13"
      },
      "outputs": [
        {
          "output_type": "stream",
          "name": "stdout",
          "text": [
            "6\n",
            "Hello! I am going to work on Python for data science\n"
          ]
        }
      ],
      "source": [
        "print(2+4)\n",
        "print (\"Hello! I am going to work on Python for data science\")\n"
      ]
    },
    {
      "cell_type": "markdown",
      "source": [
        "## **Chapter 2:  Operators**"
      ],
      "metadata": {
        "id": "JpgxdXuRZEjm"
      }
    },
    {
      "cell_type": "markdown",
      "source": [
        "**a) Arithmetic Operators**"
      ],
      "metadata": {
        "id": "Q1asqxA2yDtw"
      }
    },
    {
      "cell_type": "code",
      "source": [
        "# Here are Arithmetic operators\n",
        "\n",
        "# All Arithmetic Operators\n",
        "a = 5\n",
        "b = 2\n",
        "print(a + b)\n",
        "print(a - b)\n",
        "print(a * b)\n",
        "print(a / b)\n",
        "print(a // b)\n",
        "print(a % b)\n",
        "print(a ** b)\n",
        "\n",
        "# we can perform this by puting direct numbers\n",
        "\n",
        "# print(2 + 5)\n",
        "# print(7 - 2)\n",
        "# print(3 * 9)\n",
        "# print(27 / 9)\n",
        "# print(21 // 5)\n",
        "# print(9 % 2) # show the remaining number after dividing\n",
        "# print(2 ** 3)"
      ],
      "metadata": {
        "colab": {
          "base_uri": "https://localhost:8080/"
        },
        "id": "qbn6HKfCZMwc",
        "outputId": "5317196d-4960-4c37-8ef4-a980dae8368c"
      },
      "execution_count": 44,
      "outputs": [
        {
          "output_type": "stream",
          "name": "stdout",
          "text": [
            "7\n",
            "3\n",
            "10\n",
            "2.5\n",
            "2\n",
            "1\n",
            "25\n"
          ]
        }
      ]
    },
    {
      "cell_type": "markdown",
      "source": [
        "**b) Comparison Operators**"
      ],
      "metadata": {
        "id": "7wxbsM4Gzo2E"
      }
    },
    {
      "cell_type": "code",
      "source": [
        "is_greater = 1 > 5\n",
        "print(is_greater)\n",
        "is_lesser = 1 < 5\n",
        "print(is_lesser)\n",
        "\n",
        "is_equal = 1 == 5\n",
        "print(is_equal)\n",
        "is_not_equal = 1 != 5\n",
        "print(is_not_equal)\n",
        "\n",
        "is_greater_or_equal = 1 >= 5\n",
        "print(is_greater_or_equal)\n",
        "is_lesser_or_equal = 1 <= 5\n",
        "print(is_lesser_or_equal)\n"
      ],
      "metadata": {
        "colab": {
          "base_uri": "https://localhost:8080/"
        },
        "id": "Ewm5BMLFz-87",
        "outputId": "90b0f564-7943-4b7c-ead6-9c29fb4ce9fe"
      },
      "execution_count": 45,
      "outputs": [
        {
          "output_type": "stream",
          "name": "stdout",
          "text": [
            "False\n",
            "True\n",
            "False\n",
            "True\n",
            "False\n",
            "True\n"
          ]
        }
      ]
    },
    {
      "cell_type": "markdown",
      "source": [
        "**c) Logical Operators**"
      ],
      "metadata": {
        "id": "4OainywC03Yu"
      }
    },
    {
      "cell_type": "code",
      "source": [
        "number = 2\n",
        "\n",
        "print(not number > 3)\n",
        "print(not number < 3)\n",
        "\n",
        "print(number > 3 and number < 3)\n",
        "print(number > 3 or number < 3)\n"
      ],
      "metadata": {
        "colab": {
          "base_uri": "https://localhost:8080/"
        },
        "id": "5S23iFXr0-K6",
        "outputId": "6ab13b57-1a8b-44ad-b25b-80bf5bbcd9de"
      },
      "execution_count": 48,
      "outputs": [
        {
          "output_type": "stream",
          "name": "stdout",
          "text": [
            "True\n",
            "False\n",
            "False\n",
            "True\n"
          ]
        }
      ]
    },
    {
      "cell_type": "markdown",
      "source": [
        "## **Chapter 3: Strings ( '...' , \"...\" , '''...''' )**"
      ],
      "metadata": {
        "id": "QjoQBjDgcuR0"
      }
    },
    {
      "cell_type": "code",
      "source": [
        "print ('Test for Single quotes')\n",
        "print (\"Test for Double quotes\")\n",
        "print ('''Test for Tripple quotes''')"
      ],
      "metadata": {
        "colab": {
          "base_uri": "https://localhost:8080/"
        },
        "id": "ew4glmFzbUH8",
        "outputId": "a643fc97-0b04-4363-f9f7-e82fa43f4d84"
      },
      "execution_count": null,
      "outputs": [
        {
          "output_type": "stream",
          "name": "stdout",
          "text": [
            "Test for Single quotes\n",
            "Test for Double quotes\n",
            "Test for Tripple quotes\n"
          ]
        }
      ]
    },
    {
      "cell_type": "code",
      "source": [
        "name = \"Tony Stark\"\n",
        "print(name.upper())\n",
        "print(name.lower())\n",
        "print(name)"
      ],
      "metadata": {
        "colab": {
          "base_uri": "https://localhost:8080/"
        },
        "id": "9unAyTZStjxZ",
        "outputId": "3f891c85-6aa9-4063-c537-f4e1ae577233"
      },
      "execution_count": 35,
      "outputs": [
        {
          "output_type": "stream",
          "name": "stdout",
          "text": [
            "TONY STARK\n",
            "tony stark\n",
            "Tony Stark\n"
          ]
        }
      ]
    },
    {
      "cell_type": "code",
      "source": [
        "# find index of the characters amd words: using \"find\" function;\n",
        "name = \"Tony Stark\"\n",
        "print(name.find('o'))\n",
        "print(name.find('a'))\n",
        "print(name.find('Stark'))\n",
        "print(name.find('Tony'))\n"
      ],
      "metadata": {
        "colab": {
          "base_uri": "https://localhost:8080/"
        },
        "id": "KcgUEaR-t35J",
        "outputId": "01cf7a0f-e367-4f51-af08-9eefbfe26e49"
      },
      "execution_count": 36,
      "outputs": [
        {
          "output_type": "stream",
          "name": "stdout",
          "text": [
            "1\n",
            "7\n",
            "5\n",
            "0\n"
          ]
        }
      ]
    },
    {
      "cell_type": "code",
      "source": [
        "# replace names or words using \"replace\" function\n",
        "\n",
        "print(name.replace(\"Tony Stark\" , \"Ironman\"))\n",
        "print(name) # print original name for the comparision"
      ],
      "metadata": {
        "colab": {
          "base_uri": "https://localhost:8080/"
        },
        "id": "AzlpWzgMvBSF",
        "outputId": "f04620f4-4c40-48c2-be9c-ac3f72be13be"
      },
      "execution_count": 38,
      "outputs": [
        {
          "output_type": "stream",
          "name": "stdout",
          "text": [
            "Ironman\n",
            "Tony Stark\n"
          ]
        }
      ]
    },
    {
      "cell_type": "code",
      "source": [
        "#to check if a character/string is part of the main string or not using \"in\" function\n",
        "name = \"Tony Stark\"\n",
        "\n",
        "print(\"Stark\" in name)\n",
        "print(\"v\" in name)\n",
        "print(\"y\" in name)\n"
      ],
      "metadata": {
        "colab": {
          "base_uri": "https://localhost:8080/"
        },
        "id": "gbcTRHQBvvZo",
        "outputId": "5f327d65-7e42-4a57-ab02-5bfab4611258"
      },
      "execution_count": 42,
      "outputs": [
        {
          "output_type": "stream",
          "name": "stdout",
          "text": [
            "True\n",
            "False\n",
            "True\n"
          ]
        }
      ]
    },
    {
      "cell_type": "markdown",
      "source": [
        "## **Chapter 4: Variables**"
      ],
      "metadata": {
        "id": "rhwRkNtEftR2"
      }
    },
    {
      "cell_type": "code",
      "source": [
        "name = \"shradha\"\n",
        "age = 22\n",
        "print(name)\n",
        "print(age)"
      ],
      "metadata": {
        "colab": {
          "base_uri": "https://localhost:8080/"
        },
        "id": "afx29m3wfsye",
        "outputId": "d7ca24f5-0c75-4d86-becd-1c5a781915cb"
      },
      "execution_count": null,
      "outputs": [
        {
          "output_type": "stream",
          "name": "stdout",
          "text": [
            "shradha\n",
            "22\n"
          ]
        }
      ]
    },
    {
      "cell_type": "code",
      "source": [
        "first_name = \"shradha\"\n",
        "last_name = \"khapra\"\n",
        "full_name = \"shardha khapra\"\n",
        "age = 10\n",
        "is_adult = False\n",
        "# we can print in both ways:\n",
        "#print ( first_name + \" \" + last_name )\n",
        "print (full_name)\n",
        "print ( age )\n",
        "print ( is_adult )\n",
        "\n",
        "\n"
      ],
      "metadata": {
        "colab": {
          "base_uri": "https://localhost:8080/"
        },
        "id": "NHsW-L4pg9Rg",
        "outputId": "707c5926-3d9d-45ee-c061-d511eff2fe43"
      },
      "execution_count": null,
      "outputs": [
        {
          "output_type": "stream",
          "name": "stdout",
          "text": [
            "shardha khapra\n",
            "10\n",
            "False\n"
          ]
        }
      ]
    },
    {
      "cell_type": "code",
      "source": [
        "# Exercise; Type your name and your superhero name Using input function\n",
        "\n",
        "name = input (\"What is your name? \")\n",
        "print(\"Hello \" + name)\n",
        "superhero = input(\"What is your superhero name? \")\n",
        "print(superhero)\n"
      ],
      "metadata": {
        "colab": {
          "base_uri": "https://localhost:8080/"
        },
        "id": "rD9SYu59o5m7",
        "outputId": "70440738-7ad3-41a1-e4be-4195a2d980f4"
      },
      "execution_count": 27,
      "outputs": [
        {
          "output_type": "stream",
          "name": "stdout",
          "text": [
            "What is your name? Faisal\n",
            "Hello Faisal\n",
            "What is your superhero name? Imran Khan\n",
            "Imran Khan\n"
          ]
        }
      ]
    },
    {
      "cell_type": "markdown",
      "source": [
        "## **Chapter 5: Type Conversion**"
      ],
      "metadata": {
        "id": "PM_E9Q2Qpfhh"
      }
    },
    {
      "cell_type": "code",
      "source": [
        "old_age = input (\"Enter your age : \")\n",
        "#new_age = old_age + 2\n",
        "#print(new_age)\n",
        "new_age = int(old_age) + 2\n",
        "print(new_age)\n",
        "\n",
        "#Useful converion functions\n",
        "# 1. float()\n",
        "# 2. bool()\n",
        "# 3. str()\n",
        "# 4. int()"
      ],
      "metadata": {
        "colab": {
          "base_uri": "https://localhost:8080/"
        },
        "id": "yuIfw7Qfp60u",
        "outputId": "31610dd5-2c98-4dc0-a889-2c8ed9517417"
      },
      "execution_count": 28,
      "outputs": [
        {
          "output_type": "stream",
          "name": "stdout",
          "text": [
            "Enter your age : 27\n",
            "29\n"
          ]
        }
      ]
    },
    {
      "cell_type": "code",
      "source": [
        "#Code for Sum of 2 Numbers\n",
        "\n",
        "first_number = input(\"Enter 1st number : \")\n",
        "second_number = input(\"Enter 2nd number : \")\n",
        "\n",
        "\n",
        "sum = int(first_number) + int(second_number)\n",
        "\n",
        "print(\"the sum is : \" + str(sum))\n"
      ],
      "metadata": {
        "colab": {
          "base_uri": "https://localhost:8080/"
        },
        "id": "5PZK8V7EquEB",
        "outputId": "f2e94859-1b3c-4c62-f084-a2da47e79852"
      },
      "execution_count": 34,
      "outputs": [
        {
          "output_type": "stream",
          "name": "stdout",
          "text": [
            "Enter 1st number : 23\n",
            "Enter 2nd number : 5\n",
            "the sum is : 28\n"
          ]
        }
      ]
    },
    {
      "cell_type": "code",
      "source": [],
      "metadata": {
        "id": "Mw1dPP8swvAZ"
      },
      "execution_count": null,
      "outputs": []
    }
  ]
}